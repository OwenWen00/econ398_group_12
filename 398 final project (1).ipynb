{
 "cells": [
  {
   "cell_type": "code",
   "execution_count": 1,
   "id": "fc71872e-f46e-4c99-aa97-4f3c0fd365bc",
   "metadata": {},
   "outputs": [
    {
     "name": "stderr",
     "output_type": "stream",
     "text": [
      "── \u001b[1mAttaching core tidyverse packages\u001b[22m ──────────────────────────────────────────────────────────────── tidyverse 2.0.0 ──\n",
      "\u001b[32m✔\u001b[39m \u001b[34mdplyr    \u001b[39m 1.1.4     \u001b[32m✔\u001b[39m \u001b[34mreadr    \u001b[39m 2.1.5\n",
      "\u001b[32m✔\u001b[39m \u001b[34mforcats  \u001b[39m 1.0.0     \u001b[32m✔\u001b[39m \u001b[34mstringr  \u001b[39m 1.5.1\n",
      "\u001b[32m✔\u001b[39m \u001b[34mggplot2  \u001b[39m 3.5.1     \u001b[32m✔\u001b[39m \u001b[34mtibble   \u001b[39m 3.2.1\n",
      "\u001b[32m✔\u001b[39m \u001b[34mlubridate\u001b[39m 1.9.4     \u001b[32m✔\u001b[39m \u001b[34mtidyr    \u001b[39m 1.3.1\n",
      "\u001b[32m✔\u001b[39m \u001b[34mpurrr    \u001b[39m 1.0.2     \n",
      "── \u001b[1mConflicts\u001b[22m ────────────────────────────────────────────────────────────────────────────────── tidyverse_conflicts() ──\n",
      "\u001b[31m✖\u001b[39m \u001b[34mdplyr\u001b[39m::\u001b[32mfilter()\u001b[39m masks \u001b[34mstats\u001b[39m::filter()\n",
      "\u001b[31m✖\u001b[39m \u001b[34mdplyr\u001b[39m::\u001b[32mlag()\u001b[39m    masks \u001b[34mstats\u001b[39m::lag()\n",
      "\u001b[36mℹ\u001b[39m Use the conflicted package (\u001b[3m\u001b[34m<http://conflicted.r-lib.org/>\u001b[39m\u001b[23m) to force all conflicts to become errors\n",
      "Warning message:\n",
      "\"package 'tableone' was built under R version 4.4.3\"\n"
     ]
    }
   ],
   "source": [
    "library(tidyverse)\n",
    "library(broom)\n",
    "library(tableone)\n",
    "library(ggplot2)\n",
    "library(dplyr)"
   ]
  },
  {
   "cell_type": "code",
   "execution_count": null,
   "id": "08ce4516-c8b1-42a7-91bd-100f45ed1119",
   "metadata": {},
   "outputs": [],
   "source": [
    "data <- read_csv(\"data_donnees_2021_ind_v2.csv\")\n",
    "\n",
    "head(data)\n",
    "dim(data)"
   ]
  },
  {
   "cell_type": "markdown",
   "id": "0acf890b-6b2b-43e9-b1f0-f2d9763d49c9",
   "metadata": {},
   "source": [
    "# data processing"
   ]
  },
  {
   "cell_type": "code",
   "execution_count": null,
   "id": "2b187fb5-41bd-4319-bd41-7517530daa88",
   "metadata": {},
   "outputs": [],
   "source": [
    "data <- data %>%\n",
    "  mutate(\n",
    "    post = ifelse(AGEGRP >= 17, 1, 0),  # AGEGRP 17+ corresponds to age 65+, so post = 1\n",
    "    treat = case_when(\n",
    "      IMMSTAT == 1 & HHInc_AT %in% 1:22 ~ 1,     # Canadian-born and income after tax < $90k -> eligible\n",
    "      IMMSTAT == 1 & HHInc_AT >= 23 ~ 0,         # Canadian-born nd income after tax >= $90k -> ineligible\n",
    "      IMMSTAT == 2 & AGEIMM <= 11 ~ 1,           # Immigrated before age 55 -> eligible\n",
    "      IMMSTAT == 2 & AGEIMM > 11 ~ 0,            # Immigrated at or after age 55 -> ineligible \n",
    "      IMMSTAT == 3 ~ NA_real_,                   # Non-permanent residents -> drop\n",
    "      AGEIMM %in% c(88, 99) ~ NA_real_           # Invalid age at immigration -> drop\n",
    "    )\n",
    "  )"
   ]
  },
  {
   "cell_type": "code",
   "execution_count": null,
   "id": "b087ffbb-a7fe-4cea-b123-b2f075e42ebe",
   "metadata": {},
   "outputs": [],
   "source": [
    "data_clean <- data %>%\n",
    "  filter(\n",
    "    AGEGRP %in% c(16, 17),     # Age 60–69\n",
    "    IMMSTAT %in% c(1, 2),\n",
    "    LFACT %in% 1:14,\n",
    "    !is.na(LFACT),                   \n",
    "    !is.na(Gender),\n",
    "    !is.na(HDGREE),\n",
    "    !is.na(EfDIMBM_2018),\n",
    "    !is.na(post),\n",
    "    !is.na(HHInc_AT), #try\n",
    "    !is.na(treat)                   \n",
    "  ) %>%\n",
    "   mutate(\n",
    "    labour_force = ifelse(LFACT %in% 1:10, 1, 0),      \n",
    "    Gender = factor(Gender),\n",
    "    HDGREE = factor(HDGREE),\n",
    "    HHInc_AT = factor(HHInc_AT), #try\n",
    "    EfDIMBM_2018 = factor(EfDIMBM_2018))"
   ]
  },
  {
   "cell_type": "code",
   "execution_count": null,
   "id": "c72b86fd-a74f-49b5-b355-2a209d807f44",
   "metadata": {},
   "outputs": [],
   "source": [
    "table(data_clean$post, data_clean$treat)"
   ]
  },
  {
   "cell_type": "markdown",
   "id": "2abde812-77bd-4639-b7a0-e509a123b237",
   "metadata": {},
   "source": [
    "# modeling"
   ]
  },
  {
   "cell_type": "code",
   "execution_count": null,
   "id": "1cce395b-3578-456d-8c44-4f2075cf1fd2",
   "metadata": {},
   "outputs": [],
   "source": [
    "model_dd_glm <- glm(\n",
    "  labour_force ~ post * treat + Gender + HDGREE + EfDIMBM_2018 + HHInc_AT,\n",
    "  data = data_clean,\n",
    "  family = binomial\n",
    ")\n",
    "\n",
    "summary(model_dd_glm)"
   ]
  },
  {
   "cell_type": "markdown",
   "id": "6e9051ad-a733-449c-a2fb-6d0ef100b1b1",
   "metadata": {},
   "source": [
    "# visualization"
   ]
  },
  {
   "cell_type": "markdown",
   "id": "ba461a43-430e-4299-bfca-58e3d903ac3b",
   "metadata": {},
   "source": [
    "## common trend"
   ]
  },
  {
   "cell_type": "code",
   "execution_count": null,
   "id": "705414c7-458b-49bc-9c52-a7e52bf356de",
   "metadata": {},
   "outputs": [],
   "source": [
    "pre_data <- data %>%\n",
    "  filter(AGEGRP %in% c(13,14,15,16,17,18)) %>%\n",
    "  mutate(\n",
    "    labour_force = ifelse(LFACT %in% 1:10, 1, 0),\n",
    "    treat = case_when(\n",
    "      IMMSTAT == 1 & HHInc_AT %in% 1:22 ~ 1,      \n",
    "      IMMSTAT == 1 & HHInc_AT >= 23 ~ 0,\n",
    "      IMMSTAT == 2 & AGEIMM <= 11 ~ 1,\n",
    "      IMMSTAT == 2 & AGEIMM > 11 ~ 0,\n",
    "      IMMSTAT == 3 ~ NA_real_,\n",
    "      AGEIMM %in% c(88, 99) ~ NA_real_\n",
    "    )\n",
    "  ) %>%\n",
    "  filter(IMMSTAT %in% c(1,2), !is.na(treat), !is.na(labour_force)) %>%\n",
    "  group_by(AGEGRP, treat) %>%\n",
    "  summarise(lfp_rate = mean(labour_force), .groups = \"drop\")\n",
    "\n",
    "# plot\n",
    "library(ggplot2)\n",
    "\n",
    "ggplot(pre_data, aes(x = AGEGRP, y = lfp_rate, color = factor(treat))) +\n",
    "  geom_line(size = 1.2) +\n",
    "  geom_point() +\n",
    "  geom_vline(xintercept = 17, linetype = \"dashed\", color = \"black\") +\n",
    "  labs(\n",
    "    x = \"Age Group (AGEGRP)\",\n",
    "    y = \"Labour Force Participation Rate\",\n",
    "    color = \"Treatment Group\"\n",
    "  ) +\n",
    "  theme_minimal()\n"
   ]
  },
  {
   "cell_type": "markdown",
   "id": "f943d9b0-85b0-41d7-9ab3-4641a7e7b475",
   "metadata": {},
   "source": [
    "# post bar"
   ]
  },
  {
   "cell_type": "code",
   "execution_count": null,
   "id": "601d3b32-2654-4ccd-9b65-ed56d377ac1a",
   "metadata": {},
   "outputs": [],
   "source": [
    "ggplot(data_clean, aes(x = factor(post), y = labour_force, fill = factor(treat))) +\n",
    "  stat_summary(fun = mean, geom = \"bar\", position = \"dodge\") +\n",
    "  labs(\n",
    "    x = \"Post (Age ≥ 65)\",\n",
    "    y = \"Labour Force Participation Rate\",\n",
    "    fill = \"Treatment Group\"\n",
    "  ) +\n",
    "  theme_minimal()\n"
   ]
  }
 ],
 "metadata": {
  "kernelspec": {
   "display_name": "R",
   "language": "R",
   "name": "ir"
  },
  "language_info": {
   "codemirror_mode": "r",
   "file_extension": ".r",
   "mimetype": "text/x-r-source",
   "name": "R",
   "pygments_lexer": "r",
   "version": "4.4.2"
  }
 },
 "nbformat": 4,
 "nbformat_minor": 5
}
