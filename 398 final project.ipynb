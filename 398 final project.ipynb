{
 "cells": [
  {
   "cell_type": "code",
   "execution_count": 1,
   "id": "fc71872e-f46e-4c99-aa97-4f3c0fd365bc",
   "metadata": {},
   "outputs": [
    {
     "name": "stderr",
     "output_type": "stream",
     "text": [
      "── \u001b[1mAttaching core tidyverse packages\u001b[22m ──────────────────────────────────────────────────────────────── tidyverse 2.0.0 ──\n",
      "\u001b[32m✔\u001b[39m \u001b[34mdplyr    \u001b[39m 1.1.4     \u001b[32m✔\u001b[39m \u001b[34mreadr    \u001b[39m 2.1.5\n",
      "\u001b[32m✔\u001b[39m \u001b[34mforcats  \u001b[39m 1.0.0     \u001b[32m✔\u001b[39m \u001b[34mstringr  \u001b[39m 1.5.1\n",
      "\u001b[32m✔\u001b[39m \u001b[34mggplot2  \u001b[39m 3.5.1     \u001b[32m✔\u001b[39m \u001b[34mtibble   \u001b[39m 3.2.1\n",
      "\u001b[32m✔\u001b[39m \u001b[34mlubridate\u001b[39m 1.9.4     \u001b[32m✔\u001b[39m \u001b[34mtidyr    \u001b[39m 1.3.1\n",
      "\u001b[32m✔\u001b[39m \u001b[34mpurrr    \u001b[39m 1.0.2     \n",
      "── \u001b[1mConflicts\u001b[22m ────────────────────────────────────────────────────────────────────────────────── tidyverse_conflicts() ──\n",
      "\u001b[31m✖\u001b[39m \u001b[34mdplyr\u001b[39m::\u001b[32mfilter()\u001b[39m masks \u001b[34mstats\u001b[39m::filter()\n",
      "\u001b[31m✖\u001b[39m \u001b[34mdplyr\u001b[39m::\u001b[32mlag()\u001b[39m    masks \u001b[34mstats\u001b[39m::lag()\n",
      "\u001b[36mℹ\u001b[39m Use the conflicted package (\u001b[3m\u001b[34m<http://conflicted.r-lib.org/>\u001b[39m\u001b[23m) to force all conflicts to become errors\n",
      "Warning message:\n",
      "\"package 'tableone' was built under R version 4.4.3\"\n"
     ]
    }
   ],
   "source": [
    "library(tidyverse)\n",
    "library(broom)\n",
    "library(tableone)\n",
    "library(ggplot2)\n",
    "library(dplyr)"
   ]
  },
  {
   "cell_type": "code",
   "execution_count": 2,
   "id": "08ce4516-c8b1-42a7-91bd-100f45ed1119",
   "metadata": {},
   "outputs": [
    {
     "name": "stderr",
     "output_type": "stream",
     "text": [
      "\u001b[1mRows: \u001b[22m\u001b[34m980868\u001b[39m \u001b[1mColumns: \u001b[22m\u001b[34m144\u001b[39m\n",
      "\u001b[36m──\u001b[39m \u001b[1mColumn specification\u001b[22m \u001b[36m────────────────────────────────────────────────────────────────────────────────────────────────\u001b[39m\n",
      "\u001b[1mDelimiter:\u001b[22m \",\"\n",
      "\u001b[32mdbl\u001b[39m (144): PPSORT, ABOID, AGEGRP, AGEIMM, ATTSCH, BFNMEMB, BedRm, CFInc, CFI...\n",
      "\n",
      "\u001b[36mℹ\u001b[39m Use `spec()` to retrieve the full column specification for this data.\n",
      "\u001b[36mℹ\u001b[39m Specify the column types or set `show_col_types = FALSE` to quiet this message.\n"
     ]
    },
    {
     "data": {
      "text/html": [
       "<table class=\"dataframe\">\n",
       "<caption>A tibble: 6 × 144</caption>\n",
       "<thead>\n",
       "\t<tr><th scope=col>PPSORT</th><th scope=col>ABOID</th><th scope=col>AGEGRP</th><th scope=col>AGEIMM</th><th scope=col>ATTSCH</th><th scope=col>BFNMEMB</th><th scope=col>BedRm</th><th scope=col>CFInc</th><th scope=col>CFInc_AT</th><th scope=col>CFSTAT</th><th scope=col>⋯</th><th scope=col>WT7</th><th scope=col>WT8</th><th scope=col>WT9</th><th scope=col>WT10</th><th scope=col>WT11</th><th scope=col>WT12</th><th scope=col>WT13</th><th scope=col>WT14</th><th scope=col>WT15</th><th scope=col>WT16</th></tr>\n",
       "\t<tr><th scope=col>&lt;dbl&gt;</th><th scope=col>&lt;dbl&gt;</th><th scope=col>&lt;dbl&gt;</th><th scope=col>&lt;dbl&gt;</th><th scope=col>&lt;dbl&gt;</th><th scope=col>&lt;dbl&gt;</th><th scope=col>&lt;dbl&gt;</th><th scope=col>&lt;dbl&gt;</th><th scope=col>&lt;dbl&gt;</th><th scope=col>&lt;dbl&gt;</th><th scope=col>⋯</th><th scope=col>&lt;dbl&gt;</th><th scope=col>&lt;dbl&gt;</th><th scope=col>&lt;dbl&gt;</th><th scope=col>&lt;dbl&gt;</th><th scope=col>&lt;dbl&gt;</th><th scope=col>&lt;dbl&gt;</th><th scope=col>&lt;dbl&gt;</th><th scope=col>&lt;dbl&gt;</th><th scope=col>&lt;dbl&gt;</th><th scope=col>&lt;dbl&gt;</th></tr>\n",
       "</thead>\n",
       "<tbody>\n",
       "\t<tr><td>1</td><td>6</td><td>13</td><td> 7</td><td>1</td><td>0</td><td>4</td><td>30</td><td>27</td><td>2</td><td>⋯</td><td>22.90113</td><td>22.90113</td><td>22.90113</td><td>249.27876</td><td>22.90113</td><td>22.90113</td><td>22.90113</td><td> 22.90113</td><td>22.90113</td><td>22.90113</td></tr>\n",
       "\t<tr><td>2</td><td>6</td><td>11</td><td> 5</td><td>1</td><td>0</td><td>3</td><td>18</td><td>18</td><td>2</td><td>⋯</td><td>22.89379</td><td>22.89379</td><td>22.89379</td><td> 22.89379</td><td>22.89379</td><td>22.89379</td><td>22.89379</td><td> 22.89379</td><td>22.89379</td><td>22.89379</td></tr>\n",
       "\t<tr><td>3</td><td>1</td><td>13</td><td>99</td><td>1</td><td>0</td><td>0</td><td> 7</td><td> 7</td><td>6</td><td>⋯</td><td>22.90134</td><td>22.90134</td><td>22.90134</td><td> 22.90134</td><td>22.90134</td><td>22.90134</td><td>22.90134</td><td> 22.90134</td><td>22.90134</td><td>22.90134</td></tr>\n",
       "\t<tr><td>4</td><td>6</td><td>16</td><td>99</td><td>1</td><td>0</td><td>4</td><td>15</td><td>15</td><td>2</td><td>⋯</td><td>22.87713</td><td>22.87713</td><td>22.87713</td><td> 22.87713</td><td>22.87713</td><td>22.87713</td><td>22.87713</td><td> 22.87713</td><td>22.87713</td><td>22.87713</td></tr>\n",
       "\t<tr><td>5</td><td>6</td><td>18</td><td>99</td><td>1</td><td>0</td><td>3</td><td>13</td><td>13</td><td>3</td><td>⋯</td><td>22.90134</td><td>22.90134</td><td>22.90134</td><td> 22.90134</td><td>22.90134</td><td>22.90134</td><td>22.90134</td><td> 22.90134</td><td>22.90134</td><td>22.90134</td></tr>\n",
       "\t<tr><td>6</td><td>2</td><td>16</td><td>99</td><td>1</td><td>0</td><td>4</td><td> 1</td><td> 1</td><td>7</td><td>⋯</td><td>22.89284</td><td>22.89284</td><td>22.89284</td><td> 22.89284</td><td>22.89284</td><td>22.89284</td><td>22.89284</td><td>249.18847</td><td>22.89284</td><td>22.89284</td></tr>\n",
       "</tbody>\n",
       "</table>\n"
      ],
      "text/latex": [
       "A tibble: 6 × 144\n",
       "\\begin{tabular}{lllllllllllllllllllll}\n",
       " PPSORT & ABOID & AGEGRP & AGEIMM & ATTSCH & BFNMEMB & BedRm & CFInc & CFInc\\_AT & CFSTAT & ⋯ & WT7 & WT8 & WT9 & WT10 & WT11 & WT12 & WT13 & WT14 & WT15 & WT16\\\\\n",
       " <dbl> & <dbl> & <dbl> & <dbl> & <dbl> & <dbl> & <dbl> & <dbl> & <dbl> & <dbl> & ⋯ & <dbl> & <dbl> & <dbl> & <dbl> & <dbl> & <dbl> & <dbl> & <dbl> & <dbl> & <dbl>\\\\\n",
       "\\hline\n",
       "\t 1 & 6 & 13 &  7 & 1 & 0 & 4 & 30 & 27 & 2 & ⋯ & 22.90113 & 22.90113 & 22.90113 & 249.27876 & 22.90113 & 22.90113 & 22.90113 &  22.90113 & 22.90113 & 22.90113\\\\\n",
       "\t 2 & 6 & 11 &  5 & 1 & 0 & 3 & 18 & 18 & 2 & ⋯ & 22.89379 & 22.89379 & 22.89379 &  22.89379 & 22.89379 & 22.89379 & 22.89379 &  22.89379 & 22.89379 & 22.89379\\\\\n",
       "\t 3 & 1 & 13 & 99 & 1 & 0 & 0 &  7 &  7 & 6 & ⋯ & 22.90134 & 22.90134 & 22.90134 &  22.90134 & 22.90134 & 22.90134 & 22.90134 &  22.90134 & 22.90134 & 22.90134\\\\\n",
       "\t 4 & 6 & 16 & 99 & 1 & 0 & 4 & 15 & 15 & 2 & ⋯ & 22.87713 & 22.87713 & 22.87713 &  22.87713 & 22.87713 & 22.87713 & 22.87713 &  22.87713 & 22.87713 & 22.87713\\\\\n",
       "\t 5 & 6 & 18 & 99 & 1 & 0 & 3 & 13 & 13 & 3 & ⋯ & 22.90134 & 22.90134 & 22.90134 &  22.90134 & 22.90134 & 22.90134 & 22.90134 &  22.90134 & 22.90134 & 22.90134\\\\\n",
       "\t 6 & 2 & 16 & 99 & 1 & 0 & 4 &  1 &  1 & 7 & ⋯ & 22.89284 & 22.89284 & 22.89284 &  22.89284 & 22.89284 & 22.89284 & 22.89284 & 249.18847 & 22.89284 & 22.89284\\\\\n",
       "\\end{tabular}\n"
      ],
      "text/markdown": [
       "\n",
       "A tibble: 6 × 144\n",
       "\n",
       "| PPSORT &lt;dbl&gt; | ABOID &lt;dbl&gt; | AGEGRP &lt;dbl&gt; | AGEIMM &lt;dbl&gt; | ATTSCH &lt;dbl&gt; | BFNMEMB &lt;dbl&gt; | BedRm &lt;dbl&gt; | CFInc &lt;dbl&gt; | CFInc_AT &lt;dbl&gt; | CFSTAT &lt;dbl&gt; | ⋯ ⋯ | WT7 &lt;dbl&gt; | WT8 &lt;dbl&gt; | WT9 &lt;dbl&gt; | WT10 &lt;dbl&gt; | WT11 &lt;dbl&gt; | WT12 &lt;dbl&gt; | WT13 &lt;dbl&gt; | WT14 &lt;dbl&gt; | WT15 &lt;dbl&gt; | WT16 &lt;dbl&gt; |\n",
       "|---|---|---|---|---|---|---|---|---|---|---|---|---|---|---|---|---|---|---|---|---|\n",
       "| 1 | 6 | 13 |  7 | 1 | 0 | 4 | 30 | 27 | 2 | ⋯ | 22.90113 | 22.90113 | 22.90113 | 249.27876 | 22.90113 | 22.90113 | 22.90113 |  22.90113 | 22.90113 | 22.90113 |\n",
       "| 2 | 6 | 11 |  5 | 1 | 0 | 3 | 18 | 18 | 2 | ⋯ | 22.89379 | 22.89379 | 22.89379 |  22.89379 | 22.89379 | 22.89379 | 22.89379 |  22.89379 | 22.89379 | 22.89379 |\n",
       "| 3 | 1 | 13 | 99 | 1 | 0 | 0 |  7 |  7 | 6 | ⋯ | 22.90134 | 22.90134 | 22.90134 |  22.90134 | 22.90134 | 22.90134 | 22.90134 |  22.90134 | 22.90134 | 22.90134 |\n",
       "| 4 | 6 | 16 | 99 | 1 | 0 | 4 | 15 | 15 | 2 | ⋯ | 22.87713 | 22.87713 | 22.87713 |  22.87713 | 22.87713 | 22.87713 | 22.87713 |  22.87713 | 22.87713 | 22.87713 |\n",
       "| 5 | 6 | 18 | 99 | 1 | 0 | 3 | 13 | 13 | 3 | ⋯ | 22.90134 | 22.90134 | 22.90134 |  22.90134 | 22.90134 | 22.90134 | 22.90134 |  22.90134 | 22.90134 | 22.90134 |\n",
       "| 6 | 2 | 16 | 99 | 1 | 0 | 4 |  1 |  1 | 7 | ⋯ | 22.89284 | 22.89284 | 22.89284 |  22.89284 | 22.89284 | 22.89284 | 22.89284 | 249.18847 | 22.89284 | 22.89284 |\n",
       "\n"
      ],
      "text/plain": [
       "  PPSORT ABOID AGEGRP AGEIMM ATTSCH BFNMEMB BedRm CFInc CFInc_AT CFSTAT ⋯\n",
       "1 1      6     13      7     1      0       4     30    27       2      ⋯\n",
       "2 2      6     11      5     1      0       3     18    18       2      ⋯\n",
       "3 3      1     13     99     1      0       0      7     7       6      ⋯\n",
       "4 4      6     16     99     1      0       4     15    15       2      ⋯\n",
       "5 5      6     18     99     1      0       3     13    13       3      ⋯\n",
       "6 6      2     16     99     1      0       4      1     1       7      ⋯\n",
       "  WT7      WT8      WT9      WT10      WT11     WT12     WT13     WT14     \n",
       "1 22.90113 22.90113 22.90113 249.27876 22.90113 22.90113 22.90113  22.90113\n",
       "2 22.89379 22.89379 22.89379  22.89379 22.89379 22.89379 22.89379  22.89379\n",
       "3 22.90134 22.90134 22.90134  22.90134 22.90134 22.90134 22.90134  22.90134\n",
       "4 22.87713 22.87713 22.87713  22.87713 22.87713 22.87713 22.87713  22.87713\n",
       "5 22.90134 22.90134 22.90134  22.90134 22.90134 22.90134 22.90134  22.90134\n",
       "6 22.89284 22.89284 22.89284  22.89284 22.89284 22.89284 22.89284 249.18847\n",
       "  WT15     WT16    \n",
       "1 22.90113 22.90113\n",
       "2 22.89379 22.89379\n",
       "3 22.90134 22.90134\n",
       "4 22.87713 22.87713\n",
       "5 22.90134 22.90134\n",
       "6 22.89284 22.89284"
      ]
     },
     "metadata": {},
     "output_type": "display_data"
    },
    {
     "data": {
      "text/html": [
       "<style>\n",
       ".list-inline {list-style: none; margin:0; padding: 0}\n",
       ".list-inline>li {display: inline-block}\n",
       ".list-inline>li:not(:last-child)::after {content: \"\\00b7\"; padding: 0 .5ex}\n",
       "</style>\n",
       "<ol class=list-inline><li>980868</li><li>144</li></ol>\n"
      ],
      "text/latex": [
       "\\begin{enumerate*}\n",
       "\\item 980868\n",
       "\\item 144\n",
       "\\end{enumerate*}\n"
      ],
      "text/markdown": [
       "1. 980868\n",
       "2. 144\n",
       "\n",
       "\n"
      ],
      "text/plain": [
       "[1] 980868    144"
      ]
     },
     "metadata": {},
     "output_type": "display_data"
    }
   ],
   "source": [
    "data <- read_csv(\"data_donnees_2021_ind_v2.csv\")\n",
    "\n",
    "head(data)\n",
    "dim(data)"
   ]
  },
  {
   "cell_type": "markdown",
   "id": "0acf890b-6b2b-43e9-b1f0-f2d9763d49c9",
   "metadata": {},
   "source": [
    "# data processing"
   ]
  },
  {
   "cell_type": "code",
   "execution_count": 3,
   "id": "2b187fb5-41bd-4319-bd41-7517530daa88",
   "metadata": {},
   "outputs": [],
   "source": [
    "data <- data %>%\n",
    "  mutate(\n",
    "    post = ifelse(AGEGRP >= 17, 1, 0),  # AGEGRP 17+ corresponds to age 65+, so post = 1\n",
    "    treat = case_when(\n",
    "      IMMSTAT == 1 ~ 1,                         # Canadian-born -> eligible\n",
    "      IMMSTAT == 2 & AGEIMM <= 11 ~ 1,           # Immigrated before age 55 -> eligible\n",
    "      IMMSTAT == 2 & AGEIMM > 11 ~ 0,          # Immigrated at or after age 55 -> ineligible\n",
    "      IMMSTAT == 3 ~ NA_real_,                  # Non-permanent residents -> drop\n",
    "      AGEIMM %in% c(88, 99) ~ NA_real_          # Invalid age at immigration -> drop\n",
    "    )\n",
    "  )"
   ]
  },
  {
   "cell_type": "code",
   "execution_count": 4,
   "id": "b087ffbb-a7fe-4cea-b123-b2f075e42ebe",
   "metadata": {},
   "outputs": [],
   "source": [
    "\n",
    "data_clean <- data %>%\n",
    "  filter(\n",
    "    AGEGRP %in% c(16, 17),     # Age 60–69\n",
    "    IMMSTAT %in% c(1, 2),\n",
    "    LFACT %in% 1:14,\n",
    "    !is.na(LFACT),                   \n",
    "    !is.na(Gender),\n",
    "    !is.na(HDGREE),\n",
    "    !is.na(EfDIMBM_2018),\n",
    "    !is.na(post),\n",
    "    !is.na(treat)                   \n",
    "  ) %>%\n",
    "   mutate(\n",
    "    labour_force = ifelse(LFACT %in% 1:10, 1, 0),      \n",
    "    Gender = factor(Gender),\n",
    "    HDGREE = factor(HDGREE),\n",
    "    EfDIMBM_2018 = factor(EfDIMBM_2018))"
   ]
  },
  {
   "cell_type": "code",
   "execution_count": 5,
   "id": "c72b86fd-a74f-49b5-b355-2a209d807f44",
   "metadata": {},
   "outputs": [
    {
     "data": {
      "text/plain": [
       "   \n",
       "        0     1\n",
       "  0   874 67057\n",
       "  1  1414 56724"
      ]
     },
     "metadata": {},
     "output_type": "display_data"
    }
   ],
   "source": [
    "table(data_clean$post, data_clean$treat)\n"
   ]
  },
  {
   "cell_type": "markdown",
   "id": "2abde812-77bd-4639-b7a0-e509a123b237",
   "metadata": {},
   "source": [
    "# modeling"
   ]
  },
  {
   "cell_type": "code",
   "execution_count": 6,
   "id": "1cce395b-3578-456d-8c44-4f2075cf1fd2",
   "metadata": {},
   "outputs": [
    {
     "data": {
      "text/plain": [
       "\n",
       "Call:\n",
       "glm(formula = labour_force ~ post * treat + Gender + HDGREE + \n",
       "    EfDIMBM_2018, family = binomial, data = data_clean)\n",
       "\n",
       "Coefficients:\n",
       "                Estimate Std. Error z value Pr(>|z|)    \n",
       "(Intercept)    -1.309448   0.116971 -11.195  < 2e-16 ***\n",
       "post           -0.857236   0.094829  -9.040  < 2e-16 ***\n",
       "treat           0.575194   0.071566   8.037 9.19e-16 ***\n",
       "Gender2         0.520107   0.012536  41.488  < 2e-16 ***\n",
       "HDGREE2         0.244414   0.019356  12.628  < 2e-16 ***\n",
       "HDGREE3         0.387626   0.030180  12.844  < 2e-16 ***\n",
       "HDGREE4         0.253175   0.032281   7.843 4.41e-15 ***\n",
       "HDGREE5         0.378858   0.034996  10.826  < 2e-16 ***\n",
       "HDGREE6         0.382891   0.025560  14.980  < 2e-16 ***\n",
       "HDGREE7         0.273394   0.028027   9.755  < 2e-16 ***\n",
       "HDGREE8         0.438104   0.038158  11.481  < 2e-16 ***\n",
       "HDGREE9         0.323898   0.023220  13.949  < 2e-16 ***\n",
       "HDGREE10        0.376482   0.052087   7.228 4.90e-13 ***\n",
       "HDGREE11        1.182193   0.084726  13.953  < 2e-16 ***\n",
       "HDGREE12        0.519612   0.033172  15.664  < 2e-16 ***\n",
       "HDGREE13        1.008658   0.070258  14.357  < 2e-16 ***\n",
       "HDGREE88        1.336884   0.132574  10.084  < 2e-16 ***\n",
       "EfDIMBM_20182  -0.493338   0.156965  -3.143 0.001672 ** \n",
       "EfDIMBM_20183  -0.693498   0.172731  -4.015 5.95e-05 ***\n",
       "EfDIMBM_20184  -0.711957   0.142608  -4.992 5.96e-07 ***\n",
       "EfDIMBM_20185  -0.797678   0.138540  -5.758 8.52e-09 ***\n",
       "EfDIMBM_20186  -0.849587   0.123292  -6.891 5.55e-12 ***\n",
       "EfDIMBM_20187  -0.974099   0.125488  -7.763 8.33e-15 ***\n",
       "EfDIMBM_20188  -0.805449   0.111832  -7.202 5.92e-13 ***\n",
       "EfDIMBM_20189  -0.532731   0.100838  -5.283 1.27e-07 ***\n",
       "EfDIMBM_201810 -0.002902   0.099467  -0.029 0.976723    \n",
       "EfDIMBM_201811  0.206186   0.098321   2.097 0.035987 *  \n",
       "EfDIMBM_201812  0.192267   0.097715   1.968 0.049110 *  \n",
       "EfDIMBM_201813  0.310264   0.097299   3.189 0.001429 ** \n",
       "EfDIMBM_201814  0.247334   0.097444   2.538 0.011142 *  \n",
       "EfDIMBM_201815  0.309936   0.097321   3.185 0.001449 ** \n",
       "EfDIMBM_201816  0.314696   0.097285   3.235 0.001217 ** \n",
       "EfDIMBM_201817  0.404559   0.097088   4.167 3.09e-05 ***\n",
       "EfDIMBM_201818  0.437868   0.097184   4.506 6.62e-06 ***\n",
       "EfDIMBM_201819  0.502598   0.097259   5.168 2.37e-07 ***\n",
       "EfDIMBM_201820  0.534664   0.097456   5.486 4.11e-08 ***\n",
       "EfDIMBM_201821  0.630917   0.097744   6.455 1.08e-10 ***\n",
       "EfDIMBM_201822  0.612814   0.097993   6.254 4.01e-10 ***\n",
       "EfDIMBM_201823  0.595224   0.098453   6.046 1.49e-09 ***\n",
       "EfDIMBM_201824  0.689356   0.098913   6.969 3.19e-12 ***\n",
       "EfDIMBM_201825  0.741025   0.096644   7.668 1.75e-14 ***\n",
       "EfDIMBM_201826  0.829467   0.097309   8.524  < 2e-16 ***\n",
       "EfDIMBM_201827  0.857682   0.096703   8.869  < 2e-16 ***\n",
       "EfDIMBM_201828  0.934968   0.098195   9.522  < 2e-16 ***\n",
       "EfDIMBM_201829  1.015442   0.097522  10.412  < 2e-16 ***\n",
       "EfDIMBM_201830  1.126032   0.100924  11.157  < 2e-16 ***\n",
       "EfDIMBM_201831  1.169995   0.100993  11.585  < 2e-16 ***\n",
       "EfDIMBM_201832  1.142733   0.102084  11.194  < 2e-16 ***\n",
       "EfDIMBM_201888  1.497873   0.160698   9.321  < 2e-16 ***\n",
       "post:treat     -0.345127   0.095645  -3.608 0.000308 ***\n",
       "---\n",
       "Signif. codes:  0 '***' 0.001 '**' 0.01 '*' 0.05 '.' 0.1 ' ' 1\n",
       "\n",
       "(Dispersion parameter for binomial family taken to be 1)\n",
       "\n",
       "    Null deviance: 172826  on 126068  degrees of freedom\n",
       "Residual deviance: 154458  on 126019  degrees of freedom\n",
       "AIC: 154558\n",
       "\n",
       "Number of Fisher Scoring iterations: 4\n"
      ]
     },
     "metadata": {},
     "output_type": "display_data"
    }
   ],
   "source": [
    "model_dd_glm <- glm(\n",
    "  labour_force ~ post * treat + Gender + HDGREE + EfDIMBM_2018,\n",
    "  data = data_clean,\n",
    "  family = binomial\n",
    ")\n",
    "\n",
    "summary(model_dd_glm)"
   ]
  },
  {
   "cell_type": "markdown",
   "id": "6e9051ad-a733-449c-a2fb-6d0ef100b1b1",
   "metadata": {},
   "source": [
    "# visualization"
   ]
  },
  {
   "cell_type": "markdown",
   "id": "ba461a43-430e-4299-bfca-58e3d903ac3b",
   "metadata": {},
   "source": [
    "## Pre-trend"
   ]
  },
  {
   "cell_type": "code",
   "execution_count": 7,
   "id": "705414c7-458b-49bc-9c52-a7e52bf356de",
   "metadata": {},
   "outputs": [
    {
     "name": "stderr",
     "output_type": "stream",
     "text": [
      "Warning message:\n",
      "\"\u001b[1m\u001b[22mUsing `size` aesthetic for lines was deprecated in ggplot2 3.4.0.\n",
      "\u001b[36mℹ\u001b[39m Please use `linewidth` instead.\"\n"
     ]
    },
    {
     "data": {
      "image/png": "[encoded data removed]",
      "text/plain": [
       "plot without title"
      ]
     },
     "metadata": {
      "image/png": {
       "height": 420,
       "width": 420
      }
     },
     "output_type": "display_data"
    }
   ],
   "source": [
    "pre_data <- data %>%\n",
    "  filter(AGEGRP %in% c(15,16)) %>%\n",
    "  mutate(\n",
    "    labour_force = ifelse(LFACT %in% 1:10, 1, 0),\n",
    "    treat = case_when(\n",
    "      IMMSTAT == 1 ~ 1,\n",
    "      IMMSTAT == 2 & AGEIMM <= 11 ~ 1,\n",
    "      IMMSTAT == 2 & AGEIMM > 11 ~ 0,\n",
    "      IMMSTAT == 3 ~ NA_real_,\n",
    "      AGEIMM %in% c(88, 99) ~ NA_real_\n",
    "    )\n",
    "  ) %>%\n",
    "  filter(IMMSTAT %in% c(1,2), !is.na(treat), !is.na(labour_force)) %>%\n",
    "  group_by(AGEGRP, treat) %>%\n",
    "  summarise(lfp_rate = mean(labour_force), .groups = \"drop\")\n",
    "\n",
    "# plot\n",
    "library(ggplot2)\n",
    "\n",
    "ggplot(pre_data, aes(x = AGEGRP, y = lfp_rate, color = factor(treat))) +\n",
    "  geom_line(size = 1.2) +\n",
    "  geom_point() +\n",
    "  labs(\n",
    "    x = \"Age Group (AGEGRP)\",\n",
    "    y = \"Labour Force Participation Rate\",\n",
    "    color = \"Treatment Group\"\n",
    "  ) +\n",
    "  theme_minimal()\n"
   ]
  },
  {
   "cell_type": "markdown",
   "id": "f943d9b0-85b0-41d7-9ab3-4641a7e7b475",
   "metadata": {},
   "source": [
    "# post bar"
   ]
  },
  {
   "cell_type": "code",
   "execution_count": 8,
   "id": "601d3b32-2654-4ccd-9b65-ed56d377ac1a",
   "metadata": {},
   "outputs": [
    {
     "data": {
      "image/png": "[encoded data removed]",
      "text/plain": [
       "plot without title"
      ]
     },
     "metadata": {
      "image/png": {
       "height": 420,
       "width": 420
      }
     },
     "output_type": "display_data"
    }
   ],
   "source": [
    "ggplot(data_clean, aes(x = factor(post), y = labour_force, fill = factor(treat))) +\n",
    "  stat_summary(fun = mean, geom = \"bar\", position = \"dodge\") +\n",
    "  labs(\n",
    "    x = \"Post (Age ≥ 65)\",\n",
    "    y = \"Labour Force Participation Rate\",\n",
    "    fill = \"Treatment Group\"\n",
    "  ) +\n",
    "  theme_minimal()\n"
   ]
  }
 ],
 "metadata": {
  "kernelspec": {
   "display_name": "R",
   "language": "R",
   "name": "ir"
  },
  "language_info": {
   "codemirror_mode": "r",
   "file_extension": ".r",
   "mimetype": "text/x-r-source",
   "name": "R",
   "pygments_lexer": "r",
   "version": "4.4.2"
  }
 },
 "nbformat": 4,
 "nbformat_minor": 5
}
