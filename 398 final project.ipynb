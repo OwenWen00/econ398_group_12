{
 "cells": [
  {
   "cell_type": "code",
   "execution_count": 1,
   "id": "fc71872e-f46e-4c99-aa97-4f3c0fd365bc",
   "metadata": {},
   "outputs": [
    {
     "name": "stderr",
     "output_type": "stream",
     "text": [
      "── \u001b[1mAttaching core tidyverse packages\u001b[22m ──────────────────────────────────────────────────────────────── tidyverse 2.0.0 ──\n",
      "\u001b[32m✔\u001b[39m \u001b[34mdplyr    \u001b[39m 1.1.4     \u001b[32m✔\u001b[39m \u001b[34mreadr    \u001b[39m 2.1.5\n",
      "\u001b[32m✔\u001b[39m \u001b[34mforcats  \u001b[39m 1.0.0     \u001b[32m✔\u001b[39m \u001b[34mstringr  \u001b[39m 1.5.1\n",
      "\u001b[32m✔\u001b[39m \u001b[34mggplot2  \u001b[39m 3.5.1     \u001b[32m✔\u001b[39m \u001b[34mtibble   \u001b[39m 3.2.1\n",
      "\u001b[32m✔\u001b[39m \u001b[34mlubridate\u001b[39m 1.9.4     \u001b[32m✔\u001b[39m \u001b[34mtidyr    \u001b[39m 1.3.1\n",
      "\u001b[32m✔\u001b[39m \u001b[34mpurrr    \u001b[39m 1.0.2     \n",
      "── \u001b[1mConflicts\u001b[22m ────────────────────────────────────────────────────────────────────────────────── tidyverse_conflicts() ──\n",
      "\u001b[31m✖\u001b[39m \u001b[34mdplyr\u001b[39m::\u001b[32mfilter()\u001b[39m masks \u001b[34mstats\u001b[39m::filter()\n",
      "\u001b[31m✖\u001b[39m \u001b[34mdplyr\u001b[39m::\u001b[32mlag()\u001b[39m    masks \u001b[34mstats\u001b[39m::lag()\n",
      "\u001b[36mℹ\u001b[39m Use the conflicted package (\u001b[3m\u001b[34m<http://conflicted.r-lib.org/>\u001b[39m\u001b[23m) to force all conflicts to become errors\n",
      "Warning message:\n",
      "\"package 'tableone' was built under R version 4.4.3\"\n"
     ]
    }
   ],
   "source": [
    "library(tidyverse)\n",
    "library(broom)\n",
    "library(tableone)\n",
    "library(ggplot2)\n",
    "library(dplyr)"
   ]
  },
  {
   "cell_type": "code",
   "execution_count": 2,
   "id": "08ce4516-c8b1-42a7-91bd-100f45ed1119",
   "metadata": {},
   "outputs": [
    {
     "name": "stderr",
     "output_type": "stream",
     "text": [
      "\u001b[1mRows: \u001b[22m\u001b[34m980868\u001b[39m \u001b[1mColumns: \u001b[22m\u001b[34m144\u001b[39m\n",
      "\u001b[36m──\u001b[39m \u001b[1mColumn specification\u001b[22m \u001b[36m────────────────────────────────────────────────────────────────────────────────────────────────\u001b[39m\n",
      "\u001b[1mDelimiter:\u001b[22m \",\"\n",
      "\u001b[32mdbl\u001b[39m (144): PPSORT, ABOID, AGEGRP, AGEIMM, ATTSCH, BFNMEMB, BedRm, CFInc, CFI...\n",
      "\n",
      "\u001b[36mℹ\u001b[39m Use `spec()` to retrieve the full column specification for this data.\n",
      "\u001b[36mℹ\u001b[39m Specify the column types or set `show_col_types = FALSE` to quiet this message.\n"
     ]
    },
    {
     "data": {
      "text/html": [
       "<table class=\"dataframe\">\n",
       "<caption>A tibble: 6 × 144</caption>\n",
       "<thead>\n",
       "\t<tr><th scope=col>PPSORT</th><th scope=col>ABOID</th><th scope=col>AGEGRP</th><th scope=col>AGEIMM</th><th scope=col>ATTSCH</th><th scope=col>BFNMEMB</th><th scope=col>BedRm</th><th scope=col>CFInc</th><th scope=col>CFInc_AT</th><th scope=col>CFSTAT</th><th scope=col>⋯</th><th scope=col>WT7</th><th scope=col>WT8</th><th scope=col>WT9</th><th scope=col>WT10</th><th scope=col>WT11</th><th scope=col>WT12</th><th scope=col>WT13</th><th scope=col>WT14</th><th scope=col>WT15</th><th scope=col>WT16</th></tr>\n",
       "\t<tr><th scope=col>&lt;dbl&gt;</th><th scope=col>&lt;dbl&gt;</th><th scope=col>&lt;dbl&gt;</th><th scope=col>&lt;dbl&gt;</th><th scope=col>&lt;dbl&gt;</th><th scope=col>&lt;dbl&gt;</th><th scope=col>&lt;dbl&gt;</th><th scope=col>&lt;dbl&gt;</th><th scope=col>&lt;dbl&gt;</th><th scope=col>&lt;dbl&gt;</th><th scope=col>⋯</th><th scope=col>&lt;dbl&gt;</th><th scope=col>&lt;dbl&gt;</th><th scope=col>&lt;dbl&gt;</th><th scope=col>&lt;dbl&gt;</th><th scope=col>&lt;dbl&gt;</th><th scope=col>&lt;dbl&gt;</th><th scope=col>&lt;dbl&gt;</th><th scope=col>&lt;dbl&gt;</th><th scope=col>&lt;dbl&gt;</th><th scope=col>&lt;dbl&gt;</th></tr>\n",
       "</thead>\n",
       "<tbody>\n",
       "\t<tr><td>1</td><td>6</td><td>13</td><td> 7</td><td>1</td><td>0</td><td>4</td><td>30</td><td>27</td><td>2</td><td>⋯</td><td>22.90113</td><td>22.90113</td><td>22.90113</td><td>249.27876</td><td>22.90113</td><td>22.90113</td><td>22.90113</td><td> 22.90113</td><td>22.90113</td><td>22.90113</td></tr>\n",
       "\t<tr><td>2</td><td>6</td><td>11</td><td> 5</td><td>1</td><td>0</td><td>3</td><td>18</td><td>18</td><td>2</td><td>⋯</td><td>22.89379</td><td>22.89379</td><td>22.89379</td><td> 22.89379</td><td>22.89379</td><td>22.89379</td><td>22.89379</td><td> 22.89379</td><td>22.89379</td><td>22.89379</td></tr>\n",
       "\t<tr><td>3</td><td>1</td><td>13</td><td>99</td><td>1</td><td>0</td><td>0</td><td> 7</td><td> 7</td><td>6</td><td>⋯</td><td>22.90134</td><td>22.90134</td><td>22.90134</td><td> 22.90134</td><td>22.90134</td><td>22.90134</td><td>22.90134</td><td> 22.90134</td><td>22.90134</td><td>22.90134</td></tr>\n",
       "\t<tr><td>4</td><td>6</td><td>16</td><td>99</td><td>1</td><td>0</td><td>4</td><td>15</td><td>15</td><td>2</td><td>⋯</td><td>22.87713</td><td>22.87713</td><td>22.87713</td><td> 22.87713</td><td>22.87713</td><td>22.87713</td><td>22.87713</td><td> 22.87713</td><td>22.87713</td><td>22.87713</td></tr>\n",
       "\t<tr><td>5</td><td>6</td><td>18</td><td>99</td><td>1</td><td>0</td><td>3</td><td>13</td><td>13</td><td>3</td><td>⋯</td><td>22.90134</td><td>22.90134</td><td>22.90134</td><td> 22.90134</td><td>22.90134</td><td>22.90134</td><td>22.90134</td><td> 22.90134</td><td>22.90134</td><td>22.90134</td></tr>\n",
       "\t<tr><td>6</td><td>2</td><td>16</td><td>99</td><td>1</td><td>0</td><td>4</td><td> 1</td><td> 1</td><td>7</td><td>⋯</td><td>22.89284</td><td>22.89284</td><td>22.89284</td><td> 22.89284</td><td>22.89284</td><td>22.89284</td><td>22.89284</td><td>249.18847</td><td>22.89284</td><td>22.89284</td></tr>\n",
       "</tbody>\n",
       "</table>\n"
      ],
      "text/latex": [
       "A tibble: 6 × 144\n",
       "\\begin{tabular}{lllllllllllllllllllll}\n",
       " PPSORT & ABOID & AGEGRP & AGEIMM & ATTSCH & BFNMEMB & BedRm & CFInc & CFInc\\_AT & CFSTAT & ⋯ & WT7 & WT8 & WT9 & WT10 & WT11 & WT12 & WT13 & WT14 & WT15 & WT16\\\\\n",
       " <dbl> & <dbl> & <dbl> & <dbl> & <dbl> & <dbl> & <dbl> & <dbl> & <dbl> & <dbl> & ⋯ & <dbl> & <dbl> & <dbl> & <dbl> & <dbl> & <dbl> & <dbl> & <dbl> & <dbl> & <dbl>\\\\\n",
       "\\hline\n",
       "\t 1 & 6 & 13 &  7 & 1 & 0 & 4 & 30 & 27 & 2 & ⋯ & 22.90113 & 22.90113 & 22.90113 & 249.27876 & 22.90113 & 22.90113 & 22.90113 &  22.90113 & 22.90113 & 22.90113\\\\\n",
       "\t 2 & 6 & 11 &  5 & 1 & 0 & 3 & 18 & 18 & 2 & ⋯ & 22.89379 & 22.89379 & 22.89379 &  22.89379 & 22.89379 & 22.89379 & 22.89379 &  22.89379 & 22.89379 & 22.89379\\\\\n",
       "\t 3 & 1 & 13 & 99 & 1 & 0 & 0 &  7 &  7 & 6 & ⋯ & 22.90134 & 22.90134 & 22.90134 &  22.90134 & 22.90134 & 22.90134 & 22.90134 &  22.90134 & 22.90134 & 22.90134\\\\\n",
       "\t 4 & 6 & 16 & 99 & 1 & 0 & 4 & 15 & 15 & 2 & ⋯ & 22.87713 & 22.87713 & 22.87713 &  22.87713 & 22.87713 & 22.87713 & 22.87713 &  22.87713 & 22.87713 & 22.87713\\\\\n",
       "\t 5 & 6 & 18 & 99 & 1 & 0 & 3 & 13 & 13 & 3 & ⋯ & 22.90134 & 22.90134 & 22.90134 &  22.90134 & 22.90134 & 22.90134 & 22.90134 &  22.90134 & 22.90134 & 22.90134\\\\\n",
       "\t 6 & 2 & 16 & 99 & 1 & 0 & 4 &  1 &  1 & 7 & ⋯ & 22.89284 & 22.89284 & 22.89284 &  22.89284 & 22.89284 & 22.89284 & 22.89284 & 249.18847 & 22.89284 & 22.89284\\\\\n",
       "\\end{tabular}\n"
      ],
      "text/markdown": [
       "\n",
       "A tibble: 6 × 144\n",
       "\n",
       "| PPSORT &lt;dbl&gt; | ABOID &lt;dbl&gt; | AGEGRP &lt;dbl&gt; | AGEIMM &lt;dbl&gt; | ATTSCH &lt;dbl&gt; | BFNMEMB &lt;dbl&gt; | BedRm &lt;dbl&gt; | CFInc &lt;dbl&gt; | CFInc_AT &lt;dbl&gt; | CFSTAT &lt;dbl&gt; | ⋯ ⋯ | WT7 &lt;dbl&gt; | WT8 &lt;dbl&gt; | WT9 &lt;dbl&gt; | WT10 &lt;dbl&gt; | WT11 &lt;dbl&gt; | WT12 &lt;dbl&gt; | WT13 &lt;dbl&gt; | WT14 &lt;dbl&gt; | WT15 &lt;dbl&gt; | WT16 &lt;dbl&gt; |\n",
       "|---|---|---|---|---|---|---|---|---|---|---|---|---|---|---|---|---|---|---|---|---|\n",
       "| 1 | 6 | 13 |  7 | 1 | 0 | 4 | 30 | 27 | 2 | ⋯ | 22.90113 | 22.90113 | 22.90113 | 249.27876 | 22.90113 | 22.90113 | 22.90113 |  22.90113 | 22.90113 | 22.90113 |\n",
       "| 2 | 6 | 11 |  5 | 1 | 0 | 3 | 18 | 18 | 2 | ⋯ | 22.89379 | 22.89379 | 22.89379 |  22.89379 | 22.89379 | 22.89379 | 22.89379 |  22.89379 | 22.89379 | 22.89379 |\n",
       "| 3 | 1 | 13 | 99 | 1 | 0 | 0 |  7 |  7 | 6 | ⋯ | 22.90134 | 22.90134 | 22.90134 |  22.90134 | 22.90134 | 22.90134 | 22.90134 |  22.90134 | 22.90134 | 22.90134 |\n",
       "| 4 | 6 | 16 | 99 | 1 | 0 | 4 | 15 | 15 | 2 | ⋯ | 22.87713 | 22.87713 | 22.87713 |  22.87713 | 22.87713 | 22.87713 | 22.87713 |  22.87713 | 22.87713 | 22.87713 |\n",
       "| 5 | 6 | 18 | 99 | 1 | 0 | 3 | 13 | 13 | 3 | ⋯ | 22.90134 | 22.90134 | 22.90134 |  22.90134 | 22.90134 | 22.90134 | 22.90134 |  22.90134 | 22.90134 | 22.90134 |\n",
       "| 6 | 2 | 16 | 99 | 1 | 0 | 4 |  1 |  1 | 7 | ⋯ | 22.89284 | 22.89284 | 22.89284 |  22.89284 | 22.89284 | 22.89284 | 22.89284 | 249.18847 | 22.89284 | 22.89284 |\n",
       "\n"
      ],
      "text/plain": [
       "  PPSORT ABOID AGEGRP AGEIMM ATTSCH BFNMEMB BedRm CFInc CFInc_AT CFSTAT ⋯\n",
       "1 1      6     13      7     1      0       4     30    27       2      ⋯\n",
       "2 2      6     11      5     1      0       3     18    18       2      ⋯\n",
       "3 3      1     13     99     1      0       0      7     7       6      ⋯\n",
       "4 4      6     16     99     1      0       4     15    15       2      ⋯\n",
       "5 5      6     18     99     1      0       3     13    13       3      ⋯\n",
       "6 6      2     16     99     1      0       4      1     1       7      ⋯\n",
       "  WT7      WT8      WT9      WT10      WT11     WT12     WT13     WT14     \n",
       "1 22.90113 22.90113 22.90113 249.27876 22.90113 22.90113 22.90113  22.90113\n",
       "2 22.89379 22.89379 22.89379  22.89379 22.89379 22.89379 22.89379  22.89379\n",
       "3 22.90134 22.90134 22.90134  22.90134 22.90134 22.90134 22.90134  22.90134\n",
       "4 22.87713 22.87713 22.87713  22.87713 22.87713 22.87713 22.87713  22.87713\n",
       "5 22.90134 22.90134 22.90134  22.90134 22.90134 22.90134 22.90134  22.90134\n",
       "6 22.89284 22.89284 22.89284  22.89284 22.89284 22.89284 22.89284 249.18847\n",
       "  WT15     WT16    \n",
       "1 22.90113 22.90113\n",
       "2 22.89379 22.89379\n",
       "3 22.90134 22.90134\n",
       "4 22.87713 22.87713\n",
       "5 22.90134 22.90134\n",
       "6 22.89284 22.89284"
      ]
     },
     "metadata": {},
     "output_type": "display_data"
    },
    {
     "data": {
      "text/html": [
       "<style>\n",
       ".list-inline {list-style: none; margin:0; padding: 0}\n",
       ".list-inline>li {display: inline-block}\n",
       ".list-inline>li:not(:last-child)::after {content: \"\\00b7\"; padding: 0 .5ex}\n",
       "</style>\n",
       "<ol class=list-inline><li>980868</li><li>144</li></ol>\n"
      ],
      "text/latex": [
       "\\begin{enumerate*}\n",
       "\\item 980868\n",
       "\\item 144\n",
       "\\end{enumerate*}\n"
      ],
      "text/markdown": [
       "1. 980868\n",
       "2. 144\n",
       "\n",
       "\n"
      ],
      "text/plain": [
       "[1] 980868    144"
      ]
     },
     "metadata": {},
     "output_type": "display_data"
    }
   ],
   "source": [
    "data <- read_csv(\"data_donnees_2021_ind_v2.csv\")\n",
    "\n",
    "head(data)\n",
    "dim(data)"
   ]
  },
  {
   "cell_type": "markdown",
   "id": "0acf890b-6b2b-43e9-b1f0-f2d9763d49c9",
   "metadata": {},
   "source": [
    "# data processing"
   ]
  },
  {
   "cell_type": "code",
   "execution_count": 3,
   "id": "2b187fb5-41bd-4319-bd41-7517530daa88",
   "metadata": {},
   "outputs": [],
   "source": [
    "data <- data %>%\n",
    "  mutate(\n",
    "    post = ifelse(AGEGRP >= 17, 1, 0),  # AGEGRP 17+ corresponds to age 65+, so post = 1\n",
    "    treat = case_when(\n",
    "      IMMSTAT == 1 & HHInc_AT %in% 1:22 ~ 1,     # Canadian-born and income after tax < $90k -> eligible\n",
    "      IMMSTAT == 1 & HHInc_AT >= 23 ~ 0,         # Canadian-born nd income after tax >= $90k -> ineligible\n",
    "      IMMSTAT == 2 & AGEIMM <= 11 ~ 1,           # Immigrated before age 55 -> eligible\n",
    "      IMMSTAT == 2 & AGEIMM > 11 ~ 0,            # Immigrated at or after age 55 -> ineligible \n",
    "      IMMSTAT == 3 ~ NA_real_,                   # Non-permanent residents -> drop\n",
    "      AGEIMM %in% c(88, 99) ~ NA_real_           # Invalid age at immigration -> drop\n",
    "    )\n",
    "  )"
   ]
  },
  {
   "cell_type": "code",
   "execution_count": 4,
   "id": "b087ffbb-a7fe-4cea-b123-b2f075e42ebe",
   "metadata": {},
   "outputs": [],
   "source": [
    "data_clean <- data %>%\n",
    "  filter(\n",
    "    AGEGRP %in% c(16, 17),     # Age 60–69\n",
    "    IMMSTAT %in% c(1, 2),\n",
    "    LFACT %in% 1:14,\n",
    "    !is.na(LFACT),                   \n",
    "    !is.na(Gender),\n",
    "    !is.na(HDGREE),\n",
    "    !is.na(EfDIMBM_2018),\n",
    "    !is.na(post),\n",
    "    !is.na(HHInc_AT), #try\n",
    "    !is.na(treat)                   \n",
    "  ) %>%\n",
    "   mutate(\n",
    "    labour_force = ifelse(LFACT %in% 1:10, 1, 0),      \n",
    "    Gender = factor(Gender),\n",
    "    HDGREE = factor(HDGREE),\n",
    "    HHInc_AT = factor(HHInc_AT), #try\n",
    "    EfDIMBM_2018 = factor(EfDIMBM_2018))"
   ]
  },
  {
   "cell_type": "code",
   "execution_count": 5,
   "id": "c72b86fd-a74f-49b5-b355-2a209d807f44",
   "metadata": {},
   "outputs": [
    {
     "data": {
      "text/plain": [
       "   \n",
       "        0     1\n",
       "  0 21810 46121\n",
       "  1 15148 42990"
      ]
     },
     "metadata": {},
     "output_type": "display_data"
    }
   ],
   "source": [
    "table(data_clean$post, data_clean$treat)"
   ]
  },
  {
   "cell_type": "markdown",
   "id": "2abde812-77bd-4639-b7a0-e509a123b237",
   "metadata": {},
   "source": [
    "# modeling"
   ]
  },
  {
   "cell_type": "code",
   "execution_count": 6,
   "id": "1cce395b-3578-456d-8c44-4f2075cf1fd2",
   "metadata": {},
   "outputs": [
    {
     "data": {
      "text/plain": [
       "\n",
       "Call:\n",
       "glm(formula = labour_force ~ post * treat + Gender + HDGREE + \n",
       "    EfDIMBM_2018 + HHInc_AT, family = binomial, data = data_clean)\n",
       "\n",
       "Coefficients: (1 not defined because of singularities)\n",
       "                Estimate Std. Error z value Pr(>|z|)    \n",
       "(Intercept)    -1.016746   0.102163  -9.952  < 2e-16 ***\n",
       "post           -1.044434   0.022500 -46.419  < 2e-16 ***\n",
       "treat           0.283870   0.023674  11.991  < 2e-16 ***\n",
       "Gender2         0.508088   0.012637  40.208  < 2e-16 ***\n",
       "HDGREE2         0.262472   0.019546  13.429  < 2e-16 ***\n",
       "HDGREE3         0.401360   0.030458  13.177  < 2e-16 ***\n",
       "HDGREE4         0.292814   0.032508   9.007  < 2e-16 ***\n",
       "HDGREE5         0.402006   0.035282  11.394  < 2e-16 ***\n",
       "HDGREE6         0.420409   0.025764  16.318  < 2e-16 ***\n",
       "HDGREE7         0.290664   0.028233  10.295  < 2e-16 ***\n",
       "HDGREE8         0.444810   0.038502  11.553  < 2e-16 ***\n",
       "HDGREE9         0.341435   0.023408  14.586  < 2e-16 ***\n",
       "HDGREE10        0.373495   0.052436   7.123 1.06e-12 ***\n",
       "HDGREE11        1.204213   0.085108  14.149  < 2e-16 ***\n",
       "HDGREE12        0.527303   0.033380  15.797  < 2e-16 ***\n",
       "HDGREE13        0.997784   0.070930  14.067  < 2e-16 ***\n",
       "HDGREE88        1.314290   0.133962   9.811  < 2e-16 ***\n",
       "EfDIMBM_20182  -0.369169   0.165128  -2.236 0.025374 *  \n",
       "EfDIMBM_20183  -0.473507   0.185708  -2.550 0.010780 *  \n",
       "EfDIMBM_20184  -0.328054   0.173560  -1.890 0.058739 .  \n",
       "EfDIMBM_20185  -0.158696   0.178063  -0.891 0.372804    \n",
       "EfDIMBM_20186  -0.248460   0.165671  -1.500 0.133687    \n",
       "EfDIMBM_20187  -0.315521   0.168097  -1.877 0.060515 .  \n",
       "EfDIMBM_20188  -0.216550   0.155801  -1.390 0.164555    \n",
       "EfDIMBM_20189   0.044597   0.146678   0.304 0.761091    \n",
       "EfDIMBM_201810  0.545832   0.145428   3.753 0.000175 ***\n",
       "EfDIMBM_201811  0.742559   0.144283   5.147 2.65e-07 ***\n",
       "EfDIMBM_201812  0.686644   0.143885   4.772 1.82e-06 ***\n",
       "EfDIMBM_201813  0.676885   0.143328   4.723 2.33e-06 ***\n",
       "EfDIMBM_201814  0.488854   0.143332   3.411 0.000648 ***\n",
       "EfDIMBM_201815  0.456509   0.143147   3.189 0.001427 ** \n",
       "EfDIMBM_201816  0.347214   0.143249   2.424 0.015357 *  \n",
       "EfDIMBM_201817  0.301824   0.143209   2.108 0.035068 *  \n",
       "EfDIMBM_201818  0.203411   0.143333   1.419 0.155856    \n",
       "EfDIMBM_201819  0.127518   0.143425   0.889 0.373952    \n",
       "EfDIMBM_201820  0.030488   0.143828   0.212 0.832124    \n",
       "EfDIMBM_201821 -0.011238   0.144141  -0.078 0.937857    \n",
       "EfDIMBM_201822 -0.166721   0.144708  -1.152 0.249272    \n",
       "EfDIMBM_201823 -0.324088   0.145398  -2.229 0.025816 *  \n",
       "EfDIMBM_201824 -0.371449   0.146045  -2.543 0.010978 *  \n",
       "EfDIMBM_201825 -0.476334   0.145109  -3.283 0.001029 ** \n",
       "EfDIMBM_201826 -0.548867   0.146432  -3.748 0.000178 ***\n",
       "EfDIMBM_201827 -0.674875   0.146935  -4.593 4.37e-06 ***\n",
       "EfDIMBM_201828 -0.781533   0.149406  -5.231 1.69e-07 ***\n",
       "EfDIMBM_201829 -0.792516   0.151204  -5.241 1.59e-07 ***\n",
       "EfDIMBM_201830 -0.727288   0.156677  -4.642 3.45e-06 ***\n",
       "EfDIMBM_201831 -0.732137   0.162462  -4.507 6.59e-06 ***\n",
       "EfDIMBM_201832 -0.826060   0.178651  -4.624 3.77e-06 ***\n",
       "EfDIMBM_201888  1.619269   0.163702   9.892  < 2e-16 ***\n",
       "HHInc_AT2      -0.354270   0.164215  -2.157 0.030978 *  \n",
       "HHInc_AT3      -0.259128   0.191853  -1.351 0.176804    \n",
       "HHInc_AT4      -0.567258   0.172164  -3.295 0.000985 ***\n",
       "HHInc_AT5      -1.023243   0.174638  -5.859 4.65e-09 ***\n",
       "HHInc_AT6      -0.643179   0.156893  -4.099 4.14e-05 ***\n",
       "HHInc_AT7      -1.015008   0.159485  -6.364 1.96e-10 ***\n",
       "HHInc_AT8      -0.601581   0.146290  -4.112 3.92e-05 ***\n",
       "HHInc_AT9      -0.815161   0.135895  -5.998 1.99e-09 ***\n",
       "HHInc_AT10     -0.631595   0.134826  -4.685 2.81e-06 ***\n",
       "HHInc_AT11     -0.699277   0.133118  -5.253 1.50e-07 ***\n",
       "HHInc_AT12     -0.613757   0.132027  -4.649 3.34e-06 ***\n",
       "HHInc_AT13     -0.496563   0.131383  -3.779 0.000157 ***\n",
       "HHInc_AT14     -0.281341   0.130963  -2.148 0.031694 *  \n",
       "HHInc_AT15     -0.247850   0.130725  -1.896 0.057964 .  \n",
       "HHInc_AT16     -0.108273   0.130782  -0.828 0.407734    \n",
       "HHInc_AT17      0.005905   0.130707   0.045 0.963965    \n",
       "HHInc_AT18      0.184532   0.130747   1.411 0.158138    \n",
       "HHInc_AT19      0.267759   0.130961   2.045 0.040897 *  \n",
       "HHInc_AT20      0.423114   0.131020   3.229 0.001241 ** \n",
       "HHInc_AT21      0.549753   0.131353   4.185 2.85e-05 ***\n",
       "HHInc_AT22      0.687600   0.131777   5.218 1.81e-07 ***\n",
       "HHInc_AT23      0.969848   0.133450   7.268 3.66e-13 ***\n",
       "HHInc_AT24      1.115796   0.133951   8.330  < 2e-16 ***\n",
       "HHInc_AT25      1.300414   0.132884   9.786  < 2e-16 ***\n",
       "HHInc_AT26      1.463211   0.134122  10.910  < 2e-16 ***\n",
       "HHInc_AT27      1.590098   0.134548  11.818  < 2e-16 ***\n",
       "HHInc_AT28      1.813790   0.136594  13.279  < 2e-16 ***\n",
       "HHInc_AT29      1.933963   0.138296  13.984  < 2e-16 ***\n",
       "HHInc_AT30      1.971180   0.142824  13.801  < 2e-16 ***\n",
       "HHInc_AT31      2.028073   0.148632  13.645  < 2e-16 ***\n",
       "HHInc_AT32      2.128995   0.165242  12.884  < 2e-16 ***\n",
       "HHInc_AT88            NA         NA      NA       NA    \n",
       "post:treat     -0.179269   0.027138  -6.606 3.95e-11 ***\n",
       "---\n",
       "Signif. codes:  0 '***' 0.001 '**' 0.01 '*' 0.05 '.' 0.1 ' ' 1\n",
       "\n",
       "(Dispersion parameter for binomial family taken to be 1)\n",
       "\n",
       "    Null deviance: 172826  on 126068  degrees of freedom\n",
       "Residual deviance: 152553  on 125988  degrees of freedom\n",
       "AIC: 152715\n",
       "\n",
       "Number of Fisher Scoring iterations: 4\n"
      ]
     },
     "metadata": {},
     "output_type": "display_data"
    }
   ],
   "source": [
    "model_dd_glm <- glm(\n",
    "  labour_force ~ post * treat + Gender + HDGREE + EfDIMBM_2018 + HHInc_AT,\n",
    "  data = data_clean,\n",
    "  family = binomial\n",
    ")\n",
    "\n",
    "summary(model_dd_glm)"
   ]
  },
  {
   "cell_type": "markdown",
   "id": "6e9051ad-a733-449c-a2fb-6d0ef100b1b1",
   "metadata": {},
   "source": [
    "# visualization"
   ]
  },
  {
   "cell_type": "markdown",
   "id": "ba461a43-430e-4299-bfca-58e3d903ac3b",
   "metadata": {},
   "source": [
    "## common trend"
   ]
  },
  {
   "cell_type": "code",
   "execution_count": 7,
   "id": "705414c7-458b-49bc-9c52-a7e52bf356de",
   "metadata": {},
   "outputs": [
    {
     "name": "stderr",
     "output_type": "stream",
     "text": [
      "Warning message:\n",
      "\"\u001b[1m\u001b[22mUsing `size` aesthetic for lines was deprecated in ggplot2 3.4.0.\n",
      "\u001b[36mℹ\u001b[39m Please use `linewidth` instead.\"\n"
     ]
    },
    {
     "data": {
      "image/png": "[encoded data removed]",
      "text/plain": [
       "plot without title"
      ]
     },
     "metadata": {
      "image/png": {
       "height": 420,
       "width": 420
      }
     },
     "output_type": "display_data"
    }
   ],
   "source": [
    "pre_data <- data %>%\n",
    "  filter(AGEGRP %in% c(13,14,15,16,17,18)) %>%\n",
    "  mutate(\n",
    "    labour_force = ifelse(LFACT %in% 1:10, 1, 0),\n",
    "    treat = case_when(\n",
    "      IMMSTAT == 1 & HHInc_AT %in% 1:22 ~ 1,      \n",
    "      IMMSTAT == 1 & HHInc_AT >= 23 ~ 0,\n",
    "      IMMSTAT == 2 & AGEIMM <= 11 ~ 1,\n",
    "      IMMSTAT == 2 & AGEIMM > 11 ~ 0,\n",
    "      IMMSTAT == 3 ~ NA_real_,\n",
    "      AGEIMM %in% c(88, 99) ~ NA_real_\n",
    "    )\n",
    "  ) %>%\n",
    "  filter(IMMSTAT %in% c(1,2), !is.na(treat), !is.na(labour_force)) %>%\n",
    "  group_by(AGEGRP, treat) %>%\n",
    "  summarise(lfp_rate = mean(labour_force), .groups = \"drop\")\n",
    "\n",
    "# plot\n",
    "library(ggplot2)\n",
    "\n",
    "ggplot(pre_data, aes(x = AGEGRP, y = lfp_rate, color = factor(treat))) +\n",
    "  geom_line(size = 1.2) +\n",
    "  geom_point() +\n",
    "  geom_vline(xintercept = 17, linetype = \"dashed\", color = \"black\") +\n",
    "  labs(\n",
    "    x = \"Age Group (AGEGRP)\",\n",
    "    y = \"Labour Force Participation Rate\",\n",
    "    color = \"Treatment Group\"\n",
    "  ) +\n",
    "  theme_minimal()\n"
   ]
  },
  {
   "cell_type": "markdown",
   "id": "f943d9b0-85b0-41d7-9ab3-4641a7e7b475",
   "metadata": {},
   "source": [
    "# post bar"
   ]
  },
  {
   "cell_type": "code",
   "execution_count": 8,
   "id": "601d3b32-2654-4ccd-9b65-ed56d377ac1a",
   "metadata": {},
   "outputs": [
    {
     "data": {
      "image/png": "[encoded data removed]",
      "text/plain": [
       "plot without title"
      ]
     },
     "metadata": {
      "image/png": {
       "height": 420,
       "width": 420
      }
     },
     "output_type": "display_data"
    }
   ],
   "source": [
    "ggplot(data_clean, aes(x = factor(post), y = labour_force, fill = factor(treat))) +\n",
    "  stat_summary(fun = mean, geom = \"bar\", position = \"dodge\") +\n",
    "  labs(\n",
    "    x = \"Post (Age ≥ 65)\",\n",
    "    y = \"Labour Force Participation Rate\",\n",
    "    fill = \"Treatment Group\"\n",
    "  ) +\n",
    "  theme_minimal()\n"
   ]
  }
 ],
 "metadata": {
  "kernelspec": {
   "display_name": "R",
   "language": "R",
   "name": "ir"
  },
  "language_info": {
   "codemirror_mode": "r",
   "file_extension": ".r",
   "mimetype": "text/x-r-source",
   "name": "R",
   "pygments_lexer": "r",
   "version": "4.4.2"
  }
 },
 "nbformat": 4,
 "nbformat_minor": 5
}
