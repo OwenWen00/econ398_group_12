{
 "cells": [
  {
   "cell_type": "code",
   "execution_count": 1,
   "id": "fc71872e-f46e-4c99-aa97-4f3c0fd365bc",
   "metadata": {
    "vscode": {
     "languageId": "r"
    }
   },
   "outputs": [
    {
     "name": "stderr",
     "output_type": "stream",
     "text": [
      "── \u001b[1mAttaching core tidyverse packages\u001b[22m ──────────────────────── tidyverse 2.0.0 ──\n",
      "\u001b[32m✔\u001b[39m \u001b[34mdplyr    \u001b[39m 1.1.4     \u001b[32m✔\u001b[39m \u001b[34mreadr    \u001b[39m 2.1.5\n",
      "\u001b[32m✔\u001b[39m \u001b[34mforcats  \u001b[39m 1.0.0     \u001b[32m✔\u001b[39m \u001b[34mstringr  \u001b[39m 1.5.1\n",
      "\u001b[32m✔\u001b[39m \u001b[34mggplot2  \u001b[39m 3.5.1     \u001b[32m✔\u001b[39m \u001b[34mtibble   \u001b[39m 3.2.1\n",
      "\u001b[32m✔\u001b[39m \u001b[34mlubridate\u001b[39m 1.9.3     \u001b[32m✔\u001b[39m \u001b[34mtidyr    \u001b[39m 1.3.1\n",
      "\u001b[32m✔\u001b[39m \u001b[34mpurrr    \u001b[39m 1.0.2     \n",
      "── \u001b[1mConflicts\u001b[22m ────────────────────────────────────────── tidyverse_conflicts() ──\n",
      "\u001b[31m✖\u001b[39m \u001b[34mdplyr\u001b[39m::\u001b[32mfilter()\u001b[39m masks \u001b[34mstats\u001b[39m::filter()\n",
      "\u001b[31m✖\u001b[39m \u001b[34mdplyr\u001b[39m::\u001b[32mlag()\u001b[39m    masks \u001b[34mstats\u001b[39m::lag()\n",
      "\u001b[36mℹ\u001b[39m Use the conflicted package (\u001b[3m\u001b[34m<http://conflicted.r-lib.org/>\u001b[39m\u001b[23m) to force all conflicts to become errors\n",
      "Warning message:\n",
      "\"package 'tableone' was built under R version 4.4.3\"\n",
      "Warning message:\n",
      "\"package 'car' was built under R version 4.4.3\"\n",
      "Loading required package: carData\n",
      "\n",
      "Warning message:\n",
      "\"package 'carData' was built under R version 4.4.3\"\n",
      "\n",
      "Attaching package: 'car'\n",
      "\n",
      "\n",
      "The following object is masked from 'package:dplyr':\n",
      "\n",
      "    recode\n",
      "\n",
      "\n",
      "The following object is masked from 'package:purrr':\n",
      "\n",
      "    some\n",
      "\n",
      "\n"
     ]
    }
   ],
   "source": [
    "library(tidyverse)\n",
    "library(broom)\n",
    "library(tableone)\n",
    "library(ggplot2)\n",
    "library(dplyr)\n",
    "library(car)"
   ]
  },
  {
   "cell_type": "code",
   "execution_count": 2,
   "id": "08ce4516-c8b1-42a7-91bd-100f45ed1119",
   "metadata": {
    "vscode": {
     "languageId": "r"
    }
   },
   "outputs": [
    {
     "name": "stderr",
     "output_type": "stream",
     "text": [
      "\u001b[1mRows: \u001b[22m\u001b[34m980868\u001b[39m \u001b[1mColumns: \u001b[22m\u001b[34m144\u001b[39m\n",
      "\u001b[36m──\u001b[39m \u001b[1mColumn specification\u001b[22m \u001b[36m────────────────────────────────────────────────────────\u001b[39m\n",
      "\u001b[1mDelimiter:\u001b[22m \",\"\n",
      "\u001b[32mdbl\u001b[39m (144): PPSORT, ABOID, AGEGRP, AGEIMM, ATTSCH, BFNMEMB, BedRm, CFInc, CFI...\n",
      "\n",
      "\u001b[36mℹ\u001b[39m Use `spec()` to retrieve the full column specification for this data.\n",
      "\u001b[36mℹ\u001b[39m Specify the column types or set `show_col_types = FALSE` to quiet this message.\n"
     ]
    },
    {
     "data": {
      "text/html": [
       "<table class=\"dataframe\">\n",
       "<caption>A tibble: 6 × 144</caption>\n",
       "<thead>\n",
       "\t<tr><th scope=col>PPSORT</th><th scope=col>ABOID</th><th scope=col>AGEGRP</th><th scope=col>AGEIMM</th><th scope=col>ATTSCH</th><th scope=col>BFNMEMB</th><th scope=col>BedRm</th><th scope=col>CFInc</th><th scope=col>CFInc_AT</th><th scope=col>CFSTAT</th><th scope=col>⋯</th><th scope=col>WT7</th><th scope=col>WT8</th><th scope=col>WT9</th><th scope=col>WT10</th><th scope=col>WT11</th><th scope=col>WT12</th><th scope=col>WT13</th><th scope=col>WT14</th><th scope=col>WT15</th><th scope=col>WT16</th></tr>\n",
       "\t<tr><th scope=col>&lt;dbl&gt;</th><th scope=col>&lt;dbl&gt;</th><th scope=col>&lt;dbl&gt;</th><th scope=col>&lt;dbl&gt;</th><th scope=col>&lt;dbl&gt;</th><th scope=col>&lt;dbl&gt;</th><th scope=col>&lt;dbl&gt;</th><th scope=col>&lt;dbl&gt;</th><th scope=col>&lt;dbl&gt;</th><th scope=col>&lt;dbl&gt;</th><th scope=col>⋯</th><th scope=col>&lt;dbl&gt;</th><th scope=col>&lt;dbl&gt;</th><th scope=col>&lt;dbl&gt;</th><th scope=col>&lt;dbl&gt;</th><th scope=col>&lt;dbl&gt;</th><th scope=col>&lt;dbl&gt;</th><th scope=col>&lt;dbl&gt;</th><th scope=col>&lt;dbl&gt;</th><th scope=col>&lt;dbl&gt;</th><th scope=col>&lt;dbl&gt;</th></tr>\n",
       "</thead>\n",
       "<tbody>\n",
       "\t<tr><td>1</td><td>6</td><td>13</td><td> 7</td><td>1</td><td>0</td><td>4</td><td>30</td><td>27</td><td>2</td><td>⋯</td><td>22.90113</td><td>22.90113</td><td>22.90113</td><td>249.27876</td><td>22.90113</td><td>22.90113</td><td>22.90113</td><td> 22.90113</td><td>22.90113</td><td>22.90113</td></tr>\n",
       "\t<tr><td>2</td><td>6</td><td>11</td><td> 5</td><td>1</td><td>0</td><td>3</td><td>18</td><td>18</td><td>2</td><td>⋯</td><td>22.89379</td><td>22.89379</td><td>22.89379</td><td> 22.89379</td><td>22.89379</td><td>22.89379</td><td>22.89379</td><td> 22.89379</td><td>22.89379</td><td>22.89379</td></tr>\n",
       "\t<tr><td>3</td><td>1</td><td>13</td><td>99</td><td>1</td><td>0</td><td>0</td><td> 7</td><td> 7</td><td>6</td><td>⋯</td><td>22.90134</td><td>22.90134</td><td>22.90134</td><td> 22.90134</td><td>22.90134</td><td>22.90134</td><td>22.90134</td><td> 22.90134</td><td>22.90134</td><td>22.90134</td></tr>\n",
       "\t<tr><td>4</td><td>6</td><td>16</td><td>99</td><td>1</td><td>0</td><td>4</td><td>15</td><td>15</td><td>2</td><td>⋯</td><td>22.87713</td><td>22.87713</td><td>22.87713</td><td> 22.87713</td><td>22.87713</td><td>22.87713</td><td>22.87713</td><td> 22.87713</td><td>22.87713</td><td>22.87713</td></tr>\n",
       "\t<tr><td>5</td><td>6</td><td>18</td><td>99</td><td>1</td><td>0</td><td>3</td><td>13</td><td>13</td><td>3</td><td>⋯</td><td>22.90134</td><td>22.90134</td><td>22.90134</td><td> 22.90134</td><td>22.90134</td><td>22.90134</td><td>22.90134</td><td> 22.90134</td><td>22.90134</td><td>22.90134</td></tr>\n",
       "\t<tr><td>6</td><td>2</td><td>16</td><td>99</td><td>1</td><td>0</td><td>4</td><td> 1</td><td> 1</td><td>7</td><td>⋯</td><td>22.89284</td><td>22.89284</td><td>22.89284</td><td> 22.89284</td><td>22.89284</td><td>22.89284</td><td>22.89284</td><td>249.18847</td><td>22.89284</td><td>22.89284</td></tr>\n",
       "</tbody>\n",
       "</table>\n"
      ],
      "text/latex": [
       "A tibble: 6 × 144\n",
       "\\begin{tabular}{lllllllllllllllllllll}\n",
       " PPSORT & ABOID & AGEGRP & AGEIMM & ATTSCH & BFNMEMB & BedRm & CFInc & CFInc\\_AT & CFSTAT & ⋯ & WT7 & WT8 & WT9 & WT10 & WT11 & WT12 & WT13 & WT14 & WT15 & WT16\\\\\n",
       " <dbl> & <dbl> & <dbl> & <dbl> & <dbl> & <dbl> & <dbl> & <dbl> & <dbl> & <dbl> & ⋯ & <dbl> & <dbl> & <dbl> & <dbl> & <dbl> & <dbl> & <dbl> & <dbl> & <dbl> & <dbl>\\\\\n",
       "\\hline\n",
       "\t 1 & 6 & 13 &  7 & 1 & 0 & 4 & 30 & 27 & 2 & ⋯ & 22.90113 & 22.90113 & 22.90113 & 249.27876 & 22.90113 & 22.90113 & 22.90113 &  22.90113 & 22.90113 & 22.90113\\\\\n",
       "\t 2 & 6 & 11 &  5 & 1 & 0 & 3 & 18 & 18 & 2 & ⋯ & 22.89379 & 22.89379 & 22.89379 &  22.89379 & 22.89379 & 22.89379 & 22.89379 &  22.89379 & 22.89379 & 22.89379\\\\\n",
       "\t 3 & 1 & 13 & 99 & 1 & 0 & 0 &  7 &  7 & 6 & ⋯ & 22.90134 & 22.90134 & 22.90134 &  22.90134 & 22.90134 & 22.90134 & 22.90134 &  22.90134 & 22.90134 & 22.90134\\\\\n",
       "\t 4 & 6 & 16 & 99 & 1 & 0 & 4 & 15 & 15 & 2 & ⋯ & 22.87713 & 22.87713 & 22.87713 &  22.87713 & 22.87713 & 22.87713 & 22.87713 &  22.87713 & 22.87713 & 22.87713\\\\\n",
       "\t 5 & 6 & 18 & 99 & 1 & 0 & 3 & 13 & 13 & 3 & ⋯ & 22.90134 & 22.90134 & 22.90134 &  22.90134 & 22.90134 & 22.90134 & 22.90134 &  22.90134 & 22.90134 & 22.90134\\\\\n",
       "\t 6 & 2 & 16 & 99 & 1 & 0 & 4 &  1 &  1 & 7 & ⋯ & 22.89284 & 22.89284 & 22.89284 &  22.89284 & 22.89284 & 22.89284 & 22.89284 & 249.18847 & 22.89284 & 22.89284\\\\\n",
       "\\end{tabular}\n"
      ],
      "text/markdown": [
       "\n",
       "A tibble: 6 × 144\n",
       "\n",
       "| PPSORT &lt;dbl&gt; | ABOID &lt;dbl&gt; | AGEGRP &lt;dbl&gt; | AGEIMM &lt;dbl&gt; | ATTSCH &lt;dbl&gt; | BFNMEMB &lt;dbl&gt; | BedRm &lt;dbl&gt; | CFInc &lt;dbl&gt; | CFInc_AT &lt;dbl&gt; | CFSTAT &lt;dbl&gt; | ⋯ ⋯ | WT7 &lt;dbl&gt; | WT8 &lt;dbl&gt; | WT9 &lt;dbl&gt; | WT10 &lt;dbl&gt; | WT11 &lt;dbl&gt; | WT12 &lt;dbl&gt; | WT13 &lt;dbl&gt; | WT14 &lt;dbl&gt; | WT15 &lt;dbl&gt; | WT16 &lt;dbl&gt; |\n",
       "|---|---|---|---|---|---|---|---|---|---|---|---|---|---|---|---|---|---|---|---|---|\n",
       "| 1 | 6 | 13 |  7 | 1 | 0 | 4 | 30 | 27 | 2 | ⋯ | 22.90113 | 22.90113 | 22.90113 | 249.27876 | 22.90113 | 22.90113 | 22.90113 |  22.90113 | 22.90113 | 22.90113 |\n",
       "| 2 | 6 | 11 |  5 | 1 | 0 | 3 | 18 | 18 | 2 | ⋯ | 22.89379 | 22.89379 | 22.89379 |  22.89379 | 22.89379 | 22.89379 | 22.89379 |  22.89379 | 22.89379 | 22.89379 |\n",
       "| 3 | 1 | 13 | 99 | 1 | 0 | 0 |  7 |  7 | 6 | ⋯ | 22.90134 | 22.90134 | 22.90134 |  22.90134 | 22.90134 | 22.90134 | 22.90134 |  22.90134 | 22.90134 | 22.90134 |\n",
       "| 4 | 6 | 16 | 99 | 1 | 0 | 4 | 15 | 15 | 2 | ⋯ | 22.87713 | 22.87713 | 22.87713 |  22.87713 | 22.87713 | 22.87713 | 22.87713 |  22.87713 | 22.87713 | 22.87713 |\n",
       "| 5 | 6 | 18 | 99 | 1 | 0 | 3 | 13 | 13 | 3 | ⋯ | 22.90134 | 22.90134 | 22.90134 |  22.90134 | 22.90134 | 22.90134 | 22.90134 |  22.90134 | 22.90134 | 22.90134 |\n",
       "| 6 | 2 | 16 | 99 | 1 | 0 | 4 |  1 |  1 | 7 | ⋯ | 22.89284 | 22.89284 | 22.89284 |  22.89284 | 22.89284 | 22.89284 | 22.89284 | 249.18847 | 22.89284 | 22.89284 |\n",
       "\n"
      ],
      "text/plain": [
       "  PPSORT ABOID AGEGRP AGEIMM ATTSCH BFNMEMB BedRm CFInc CFInc_AT CFSTAT ⋯\n",
       "1 1      6     13      7     1      0       4     30    27       2      ⋯\n",
       "2 2      6     11      5     1      0       3     18    18       2      ⋯\n",
       "3 3      1     13     99     1      0       0      7     7       6      ⋯\n",
       "4 4      6     16     99     1      0       4     15    15       2      ⋯\n",
       "5 5      6     18     99     1      0       3     13    13       3      ⋯\n",
       "6 6      2     16     99     1      0       4      1     1       7      ⋯\n",
       "  WT7      WT8      WT9      WT10      WT11     WT12     WT13     WT14     \n",
       "1 22.90113 22.90113 22.90113 249.27876 22.90113 22.90113 22.90113  22.90113\n",
       "2 22.89379 22.89379 22.89379  22.89379 22.89379 22.89379 22.89379  22.89379\n",
       "3 22.90134 22.90134 22.90134  22.90134 22.90134 22.90134 22.90134  22.90134\n",
       "4 22.87713 22.87713 22.87713  22.87713 22.87713 22.87713 22.87713  22.87713\n",
       "5 22.90134 22.90134 22.90134  22.90134 22.90134 22.90134 22.90134  22.90134\n",
       "6 22.89284 22.89284 22.89284  22.89284 22.89284 22.89284 22.89284 249.18847\n",
       "  WT15     WT16    \n",
       "1 22.90113 22.90113\n",
       "2 22.89379 22.89379\n",
       "3 22.90134 22.90134\n",
       "4 22.87713 22.87713\n",
       "5 22.90134 22.90134\n",
       "6 22.89284 22.89284"
      ]
     },
     "metadata": {},
     "output_type": "display_data"
    },
    {
     "data": {
      "text/html": [
       "<style>\n",
       ".list-inline {list-style: none; margin:0; padding: 0}\n",
       ".list-inline>li {display: inline-block}\n",
       ".list-inline>li:not(:last-child)::after {content: \"\\00b7\"; padding: 0 .5ex}\n",
       "</style>\n",
       "<ol class=list-inline><li>980868</li><li>144</li></ol>\n"
      ],
      "text/latex": [
       "\\begin{enumerate*}\n",
       "\\item 980868\n",
       "\\item 144\n",
       "\\end{enumerate*}\n"
      ],
      "text/markdown": [
       "1. 980868\n",
       "2. 144\n",
       "\n",
       "\n"
      ],
      "text/plain": [
       "[1] 980868    144"
      ]
     },
     "metadata": {},
     "output_type": "display_data"
    }
   ],
   "source": [
    "data <- read_csv(\"data_donnees_2021_ind_v2.csv\")\n",
    "\n",
    "head(data)\n",
    "dim(data)"
   ]
  },
  {
   "cell_type": "markdown",
   "id": "0acf890b-6b2b-43e9-b1f0-f2d9763d49c9",
   "metadata": {},
   "source": [
    "# data processing"
   ]
  },
  {
   "cell_type": "code",
   "execution_count": 3,
   "id": "2b187fb5-41bd-4319-bd41-7517530daa88",
   "metadata": {
    "vscode": {
     "languageId": "r"
    }
   },
   "outputs": [],
   "source": [
    "data <- data %>%\n",
    "  mutate(\n",
    "    post = ifelse(AGEGRP >= 17, 1, 0),  # AGEGRP 17+ corresponds to age 65+, so post = 1\n",
    "    treat = case_when(\n",
    "      IMMSTAT == 1 & HHInc_AT %in% 1:22 ~ 1,     # Canadian-born and income after tax < $90k -> eligible\n",
    "      IMMSTAT == 1 & HHInc_AT >= 23 ~ 0,         # Canadian-born nd income after tax >= $90k -> ineligible\n",
    "      IMMSTAT == 2 & AGEIMM <= 11 ~ 1,           # Immigrated before age 55 -> eligible\n",
    "      IMMSTAT == 2 & AGEIMM > 11 ~ 0,            # Immigrated at or after age 55 -> ineligible \n",
    "      IMMSTAT == 3 ~ NA_real_,                   # Non-permanent residents -> drop\n",
    "      AGEIMM %in% c(88, 99) ~ NA_real_           # Invalid age at immigration -> drop\n",
    "    )\n",
    "  )"
   ]
  },
  {
   "cell_type": "code",
   "execution_count": 4,
   "id": "b087ffbb-a7fe-4cea-b123-b2f075e42ebe",
   "metadata": {
    "vscode": {
     "languageId": "r"
    }
   },
   "outputs": [],
   "source": [
    "data_clean <- data %>%\n",
    "  filter(\n",
    "    AGEGRP %in% c(16, 17),     # Age 60–69\n",
    "    IMMSTAT %in% c(1, 2),\n",
    "    LFACT %in% 1:14,\n",
    "    !is.na(LFACT),                   \n",
    "    !is.na(Gender),\n",
    "    !is.na(HDGREE),\n",
    "    !is.na(EfDIMBM_2018),\n",
    "    !is.na(post),\n",
    "    !is.na(HHInc_AT), #try\n",
    "    !is.na(treat)                   \n",
    "  ) %>%\n",
    "   mutate(\n",
    "    labour_force = ifelse(LFACT %in% 1:10, 1, 0),      \n",
    "    Gender = factor(Gender),\n",
    "    HDGREE = factor(HDGREE),\n",
    "    HHInc_AT = factor(HHInc_AT), #try\n",
    "    EfDIMBM_2018 = factor(EfDIMBM_2018))"
   ]
  },
  {
   "cell_type": "code",
   "execution_count": 5,
   "id": "c72b86fd-a74f-49b5-b355-2a209d807f44",
   "metadata": {
    "vscode": {
     "languageId": "r"
    }
   },
   "outputs": [
    {
     "data": {
      "text/plain": [
       "   \n",
       "        0     1\n",
       "  0 21810 46121\n",
       "  1 15148 42990"
      ]
     },
     "metadata": {},
     "output_type": "display_data"
    }
   ],
   "source": [
    "table(data_clean$post, data_clean$treat)"
   ]
  },
  {
   "cell_type": "code",
   "execution_count": 6,
   "id": "96a19d71-f669-4976-97d7-37d928d757c8",
   "metadata": {
    "vscode": {
     "languageId": "r"
    }
   },
   "outputs": [
    {
     "data": {
      "text/html": [
       "<table class=\"dataframe\">\n",
       "<caption>A tibble: 2 × 3</caption>\n",
       "<thead>\n",
       "\t<tr><th scope=col>labour_force</th><th scope=col>n</th><th scope=col>prop</th></tr>\n",
       "\t<tr><th scope=col>&lt;dbl&gt;</th><th scope=col>&lt;int&gt;</th><th scope=col>&lt;dbl&gt;</th></tr>\n",
       "</thead>\n",
       "<tbody>\n",
       "\t<tr><td>0</td><td>70850</td><td>0.5619938</td></tr>\n",
       "\t<tr><td>1</td><td>55219</td><td>0.4380062</td></tr>\n",
       "</tbody>\n",
       "</table>\n"
      ],
      "text/latex": [
       "A tibble: 2 × 3\n",
       "\\begin{tabular}{lll}\n",
       " labour\\_force & n & prop\\\\\n",
       " <dbl> & <int> & <dbl>\\\\\n",
       "\\hline\n",
       "\t 0 & 70850 & 0.5619938\\\\\n",
       "\t 1 & 55219 & 0.4380062\\\\\n",
       "\\end{tabular}\n"
      ],
      "text/markdown": [
       "\n",
       "A tibble: 2 × 3\n",
       "\n",
       "| labour_force &lt;dbl&gt; | n &lt;int&gt; | prop &lt;dbl&gt; |\n",
       "|---|---|---|\n",
       "| 0 | 70850 | 0.5619938 |\n",
       "| 1 | 55219 | 0.4380062 |\n",
       "\n"
      ],
      "text/plain": [
       "  labour_force n     prop     \n",
       "1 0            70850 0.5619938\n",
       "2 1            55219 0.4380062"
      ]
     },
     "metadata": {},
     "output_type": "display_data"
    }
   ],
   "source": [
    "data_clean %>%\n",
    "  count(labour_force) %>%\n",
    "  mutate(prop = n / sum(n))"
   ]
  },
  {
   "cell_type": "code",
   "execution_count": 7,
   "id": "019155d0-ef2b-4340-a473-17598ba9c938",
   "metadata": {
    "vscode": {
     "languageId": "r"
    }
   },
   "outputs": [
    {
     "data": {
      "image/png": "[encoded data removed]",
      "text/plain": [
       "plot without title"
      ]
     },
     "metadata": {
      "image/png": {
       "height": 420,
       "width": 420
      }
     },
     "output_type": "display_data"
    }
   ],
   "source": [
    "ggplot(data_clean, aes(x = Gender, fill = factor(labour_force))) +\n",
    "  geom_bar(position = \"fill\") +  \n",
    "  labs(y = \"Proportion\", fill = \"Labour Force\") +\n",
    "  theme_minimal()"
   ]
  },
  {
   "cell_type": "code",
   "execution_count": 8,
   "id": "06e895ca-c5d0-40e9-ab21-981d1af0ddac",
   "metadata": {
    "vscode": {
     "languageId": "r"
    }
   },
   "outputs": [
    {
     "data": {
      "image/png": "[encoded data removed]",
      "text/plain": [
       "plot without title"
      ]
     },
     "metadata": {
      "image/png": {
       "height": 420,
       "width": 420
      }
     },
     "output_type": "display_data"
    }
   ],
   "source": [
    "ggplot(data_clean, aes(x = HDGREE, fill = factor(labour_force))) +\n",
    "  geom_bar(position = \"fill\") +\n",
    "  labs(y = \"Proportion\", fill = \"Labour Force\") +\n",
    "  theme_minimal()\n"
   ]
  },
  {
   "cell_type": "code",
   "execution_count": 9,
   "id": "b730e6a4-2921-4d96-ab90-0bf08cc512e5",
   "metadata": {
    "vscode": {
     "languageId": "r"
    }
   },
   "outputs": [
    {
     "data": {
      "image/png": "[encoded data removed]",
      "text/plain": [
       "plot without title"
      ]
     },
     "metadata": {
      "image/png": {
       "height": 420,
       "width": 420
      }
     },
     "output_type": "display_data"
    }
   ],
   "source": [
    "ggplot(data_clean, aes(x = EfDIMBM_2018)) +\n",
    "  geom_bar(fill = \"lightgreen\") +\n",
    "  labs(title = \"Disposable MBM Income (Code)\", x = \"EfDIMBM_2018\", y = \"Count\") +\n",
    "  theme_minimal()"
   ]
  },
  {
   "cell_type": "markdown",
   "id": "2abde812-77bd-4639-b7a0-e509a123b237",
   "metadata": {},
   "source": [
    "# modeling"
   ]
  },
  {
   "cell_type": "code",
   "execution_count": 10,
   "id": "1cce395b-3578-456d-8c44-4f2075cf1fd2",
   "metadata": {
    "vscode": {
     "languageId": "r"
    }
   },
   "outputs": [
    {
     "data": {
      "text/plain": [
       "\n",
       "Call:\n",
       "glm(formula = labour_force ~ post * treat + Gender + HDGREE + \n",
       "    HHInc_AT, family = binomial, data = data_clean)\n",
       "\n",
       "Coefficients:\n",
       "            Estimate Std. Error z value Pr(>|z|)    \n",
       "(Intercept) -1.12027    0.08445 -13.265  < 2e-16 ***\n",
       "post        -1.05978    0.02237 -47.374  < 2e-16 ***\n",
       "treat        0.27722    0.02356  11.768  < 2e-16 ***\n",
       "Gender2      0.50953    0.01259  40.469  < 2e-16 ***\n",
       "HDGREE2      0.25552    0.01945  13.138  < 2e-16 ***\n",
       "HDGREE3      0.40557    0.03033  13.374  < 2e-16 ***\n",
       "HDGREE4      0.28113    0.03240   8.677  < 2e-16 ***\n",
       "HDGREE5      0.39811    0.03514  11.329  < 2e-16 ***\n",
       "HDGREE6      0.40389    0.02565  15.744  < 2e-16 ***\n",
       "HDGREE7      0.28070    0.02813   9.980  < 2e-16 ***\n",
       "HDGREE8      0.43667    0.03836  11.384  < 2e-16 ***\n",
       "HDGREE9      0.31825    0.02328  13.672  < 2e-16 ***\n",
       "HDGREE10     0.36070    0.05227   6.901 5.17e-12 ***\n",
       "HDGREE11     1.16089    0.08499  13.659  < 2e-16 ***\n",
       "HDGREE12     0.50186    0.03326  15.087  < 2e-16 ***\n",
       "HDGREE13     0.97985    0.07083  13.835  < 2e-16 ***\n",
       "HDGREE88     1.31877    0.13363   9.869  < 2e-16 ***\n",
       "HHInc_AT2   -0.50364    0.15407  -3.269 0.001079 ** \n",
       "HHInc_AT3   -0.44011    0.17270  -2.548 0.010820 *  \n",
       "HHInc_AT4   -0.69706    0.14038  -4.966 6.85e-07 ***\n",
       "HHInc_AT5   -1.12455    0.13483  -8.341  < 2e-16 ***\n",
       "HHInc_AT6   -0.74443    0.11613  -6.410 1.45e-10 ***\n",
       "HHInc_AT7   -1.10622    0.11794  -9.380  < 2e-16 ***\n",
       "HHInc_AT8   -0.55963    0.10424  -5.369 7.92e-08 ***\n",
       "HHInc_AT9   -0.49895    0.09022  -5.530 3.19e-08 ***\n",
       "HHInc_AT10   0.01851    0.08926   0.207 0.835709    \n",
       "HHInc_AT11   0.09420    0.08731   1.079 0.280593    \n",
       "HHInc_AT12   0.17422    0.08601   2.026 0.042816 *  \n",
       "HHInc_AT13   0.23902    0.08544   2.798 0.005148 ** \n",
       "HHInc_AT14   0.36150    0.08515   4.245 2.18e-05 ***\n",
       "HHInc_AT15   0.31955    0.08506   3.757 0.000172 ***\n",
       "HHInc_AT16   0.39216    0.08490   4.619 3.86e-06 ***\n",
       "HHInc_AT17   0.43969    0.08472   5.190 2.11e-07 ***\n",
       "HHInc_AT18   0.54847    0.08476   6.471 9.76e-11 ***\n",
       "HHInc_AT19   0.55587    0.08488   6.549 5.80e-11 ***\n",
       "HHInc_AT20   0.64019    0.08497   7.534 4.92e-14 ***\n",
       "HHInc_AT21   0.68949    0.08515   8.098 5.61e-16 ***\n",
       "HHInc_AT22   0.73101    0.08540   8.560  < 2e-16 ***\n",
       "HHInc_AT23   0.89959    0.08716  10.321  < 2e-16 ***\n",
       "HHInc_AT24   0.95930    0.08772  10.936  < 2e-16 ***\n",
       "HHInc_AT25   1.03926    0.08496  12.232  < 2e-16 ***\n",
       "HHInc_AT26   1.10664    0.08564  12.922  < 2e-16 ***\n",
       "HHInc_AT27   1.13118    0.08482  13.336  < 2e-16 ***\n",
       "HHInc_AT28   1.25150    0.08610  14.535  < 2e-16 ***\n",
       "HHInc_AT29   1.31124    0.08537  15.360  < 2e-16 ***\n",
       "HHInc_AT30   1.36412    0.08807  15.489  < 2e-16 ***\n",
       "HHInc_AT31   1.44166    0.08811  16.361  < 2e-16 ***\n",
       "HHInc_AT32   1.46093    0.08969  16.288  < 2e-16 ***\n",
       "HHInc_AT88   1.73981    0.15333  11.347  < 2e-16 ***\n",
       "post:treat  -0.17492    0.02698  -6.484 8.95e-11 ***\n",
       "---\n",
       "Signif. codes:  0 '***' 0.001 '**' 0.01 '*' 0.05 '.' 0.1 ' ' 1\n",
       "\n",
       "(Dispersion parameter for binomial family taken to be 1)\n",
       "\n",
       "    Null deviance: 172826  on 126068  degrees of freedom\n",
       "Residual deviance: 153294  on 126019  degrees of freedom\n",
       "AIC: 153394\n",
       "\n",
       "Number of Fisher Scoring iterations: 4\n"
      ]
     },
     "metadata": {},
     "output_type": "display_data"
    }
   ],
   "source": [
    "model_dd_glm <- glm(\n",
    "  labour_force ~ post * treat + Gender + HDGREE + HHInc_AT, #remove EfDIMBM_2018 \n",
    "  data = data_clean,\n",
    "  family = binomial\n",
    ")\n",
    "\n",
    "summary(model_dd_glm)"
   ]
  },
  {
   "cell_type": "code",
   "execution_count": 11,
   "id": "3ca038a1-7867-4744-aa68-aff482a3df15",
   "metadata": {
    "vscode": {
     "languageId": "r"
    }
   },
   "outputs": [
    {
     "name": "stderr",
     "output_type": "stream",
     "text": [
      "\n",
      "Please cite as: \n",
      "\n",
      "\n",
      " Hlavac, Marek (2022). stargazer: Well-Formatted Regression and Summary Statistics Tables.\n",
      "\n"
     ]
    },
    {
     "name": "stderr",
     "output_type": "stream",
     "text": [
      " R package version 5.2.3. https://CRAN.R-project.org/package=stargazer \n",
      "\n",
      "\n"
     ]
    }
   ],
   "source": [
    "library(stargazer)"
   ]
  },
  {
   "cell_type": "code",
   "execution_count": 12,
   "id": "8fbeecd4-1109-4338-a3d5-d73249ed303f",
   "metadata": {
    "vscode": {
     "languageId": "r"
    }
   },
   "outputs": [
    {
     "name": "stdout",
     "output_type": "stream",
     "text": [
      "\n",
      "<table style=\"text-align:center\"><caption><strong>Regression Results: DID Model</strong></caption>\n",
      "<tr><td colspan=\"2\" style=\"border-bottom: 1px solid black\"></td></tr><tr><td style=\"text-align:left\"></td><td><em>Dependent variable:</em></td></tr>\n",
      "<tr><td></td><td colspan=\"1\" style=\"border-bottom: 1px solid black\"></td></tr>\n",
      "<tr><td style=\"text-align:left\"></td><td>labour_force</td></tr>\n",
      "<tr><td colspan=\"2\" style=\"border-bottom: 1px solid black\"></td></tr><tr><td style=\"text-align:left\">post</td><td>-1.06<sup>***</sup></td></tr>\n",
      "<tr><td style=\"text-align:left\"></td><td>(0.02)</td></tr>\n",
      "<tr><td style=\"text-align:left\"></td><td></td></tr>\n",
      "<tr><td style=\"text-align:left\">treat</td><td>0.28<sup>***</sup></td></tr>\n",
      "<tr><td style=\"text-align:left\"></td><td>(0.02)</td></tr>\n",
      "<tr><td style=\"text-align:left\"></td><td></td></tr>\n",
      "<tr><td style=\"text-align:left\">Gender2</td><td>0.51<sup>***</sup></td></tr>\n",
      "<tr><td style=\"text-align:left\"></td><td>(0.01)</td></tr>\n",
      "<tr><td style=\"text-align:left\"></td><td></td></tr>\n",
      "<tr><td style=\"text-align:left\">HDGREE2</td><td>0.26<sup>***</sup></td></tr>\n",
      "<tr><td style=\"text-align:left\"></td><td>(0.02)</td></tr>\n",
      "<tr><td style=\"text-align:left\"></td><td></td></tr>\n",
      "<tr><td style=\"text-align:left\">HDGREE3</td><td>0.41<sup>***</sup></td></tr>\n",
      "<tr><td style=\"text-align:left\"></td><td>(0.03)</td></tr>\n",
      "<tr><td style=\"text-align:left\"></td><td></td></tr>\n",
      "<tr><td style=\"text-align:left\">HDGREE4</td><td>0.28<sup>***</sup></td></tr>\n",
      "<tr><td style=\"text-align:left\"></td><td>(0.03)</td></tr>\n",
      "<tr><td style=\"text-align:left\"></td><td></td></tr>\n",
      "<tr><td style=\"text-align:left\">HDGREE5</td><td>0.40<sup>***</sup></td></tr>\n",
      "<tr><td style=\"text-align:left\"></td><td>(0.04)</td></tr>\n",
      "<tr><td style=\"text-align:left\"></td><td></td></tr>\n",
      "<tr><td style=\"text-align:left\">HDGREE6</td><td>0.40<sup>***</sup></td></tr>\n",
      "<tr><td style=\"text-align:left\"></td><td>(0.03)</td></tr>\n",
      "<tr><td style=\"text-align:left\"></td><td></td></tr>\n",
      "<tr><td style=\"text-align:left\">HDGREE7</td><td>0.28<sup>***</sup></td></tr>\n",
      "<tr><td style=\"text-align:left\"></td><td>(0.03)</td></tr>\n",
      "<tr><td style=\"text-align:left\"></td><td></td></tr>\n",
      "<tr><td style=\"text-align:left\">HDGREE8</td><td>0.44<sup>***</sup></td></tr>\n",
      "<tr><td style=\"text-align:left\"></td><td>(0.04)</td></tr>\n",
      "<tr><td style=\"text-align:left\"></td><td></td></tr>\n",
      "<tr><td style=\"text-align:left\">HDGREE9</td><td>0.32<sup>***</sup></td></tr>\n",
      "<tr><td style=\"text-align:left\"></td><td>(0.02)</td></tr>\n",
      "<tr><td style=\"text-align:left\"></td><td></td></tr>\n",
      "<tr><td style=\"text-align:left\">HDGREE10</td><td>0.36<sup>***</sup></td></tr>\n",
      "<tr><td style=\"text-align:left\"></td><td>(0.05)</td></tr>\n",
      "<tr><td style=\"text-align:left\"></td><td></td></tr>\n",
      "<tr><td style=\"text-align:left\">HDGREE11</td><td>1.16<sup>***</sup></td></tr>\n",
      "<tr><td style=\"text-align:left\"></td><td>(0.08)</td></tr>\n",
      "<tr><td style=\"text-align:left\"></td><td></td></tr>\n",
      "<tr><td style=\"text-align:left\">HDGREE12</td><td>0.50<sup>***</sup></td></tr>\n",
      "<tr><td style=\"text-align:left\"></td><td>(0.03)</td></tr>\n",
      "<tr><td style=\"text-align:left\"></td><td></td></tr>\n",
      "<tr><td style=\"text-align:left\">HDGREE13</td><td>0.98<sup>***</sup></td></tr>\n",
      "<tr><td style=\"text-align:left\"></td><td>(0.07)</td></tr>\n",
      "<tr><td style=\"text-align:left\"></td><td></td></tr>\n",
      "<tr><td style=\"text-align:left\">HDGREE88</td><td>1.32<sup>***</sup></td></tr>\n",
      "<tr><td style=\"text-align:left\"></td><td>(0.13)</td></tr>\n",
      "<tr><td style=\"text-align:left\"></td><td></td></tr>\n",
      "<tr><td style=\"text-align:left\">HHInc_AT2</td><td>-0.50<sup>***</sup></td></tr>\n",
      "<tr><td style=\"text-align:left\"></td><td>(0.15)</td></tr>\n",
      "<tr><td style=\"text-align:left\"></td><td></td></tr>\n",
      "<tr><td style=\"text-align:left\">HHInc_AT3</td><td>-0.44<sup>**</sup></td></tr>\n",
      "<tr><td style=\"text-align:left\"></td><td>(0.17)</td></tr>\n",
      "<tr><td style=\"text-align:left\"></td><td></td></tr>\n",
      "<tr><td style=\"text-align:left\">HHInc_AT4</td><td>-0.70<sup>***</sup></td></tr>\n",
      "<tr><td style=\"text-align:left\"></td><td>(0.14)</td></tr>\n",
      "<tr><td style=\"text-align:left\"></td><td></td></tr>\n",
      "<tr><td style=\"text-align:left\">HHInc_AT5</td><td>-1.12<sup>***</sup></td></tr>\n",
      "<tr><td style=\"text-align:left\"></td><td>(0.13)</td></tr>\n",
      "<tr><td style=\"text-align:left\"></td><td></td></tr>\n",
      "<tr><td style=\"text-align:left\">HHInc_AT6</td><td>-0.74<sup>***</sup></td></tr>\n",
      "<tr><td style=\"text-align:left\"></td><td>(0.12)</td></tr>\n",
      "<tr><td style=\"text-align:left\"></td><td></td></tr>\n",
      "<tr><td style=\"text-align:left\">HHInc_AT7</td><td>-1.11<sup>***</sup></td></tr>\n",
      "<tr><td style=\"text-align:left\"></td><td>(0.12)</td></tr>\n",
      "<tr><td style=\"text-align:left\"></td><td></td></tr>\n",
      "<tr><td style=\"text-align:left\">HHInc_AT8</td><td>-0.56<sup>***</sup></td></tr>\n",
      "<tr><td style=\"text-align:left\"></td><td>(0.10)</td></tr>\n",
      "<tr><td style=\"text-align:left\"></td><td></td></tr>\n",
      "<tr><td style=\"text-align:left\">HHInc_AT9</td><td>-0.50<sup>***</sup></td></tr>\n",
      "<tr><td style=\"text-align:left\"></td><td>(0.09)</td></tr>\n",
      "<tr><td style=\"text-align:left\"></td><td></td></tr>\n",
      "<tr><td style=\"text-align:left\">HHInc_AT10</td><td>0.02</td></tr>\n",
      "<tr><td style=\"text-align:left\"></td><td>(0.09)</td></tr>\n",
      "<tr><td style=\"text-align:left\"></td><td></td></tr>\n",
      "<tr><td style=\"text-align:left\">HHInc_AT11</td><td>0.09</td></tr>\n",
      "<tr><td style=\"text-align:left\"></td><td>(0.09)</td></tr>\n",
      "<tr><td style=\"text-align:left\"></td><td></td></tr>\n",
      "<tr><td style=\"text-align:left\">HHInc_AT12</td><td>0.17<sup>**</sup></td></tr>\n",
      "<tr><td style=\"text-align:left\"></td><td>(0.09)</td></tr>\n",
      "<tr><td style=\"text-align:left\"></td><td></td></tr>\n",
      "<tr><td style=\"text-align:left\">HHInc_AT13</td><td>0.24<sup>***</sup></td></tr>\n",
      "<tr><td style=\"text-align:left\"></td><td>(0.09)</td></tr>\n",
      "<tr><td style=\"text-align:left\"></td><td></td></tr>\n",
      "<tr><td style=\"text-align:left\">HHInc_AT14</td><td>0.36<sup>***</sup></td></tr>\n",
      "<tr><td style=\"text-align:left\"></td><td>(0.09)</td></tr>\n",
      "<tr><td style=\"text-align:left\"></td><td></td></tr>\n",
      "<tr><td style=\"text-align:left\">HHInc_AT15</td><td>0.32<sup>***</sup></td></tr>\n",
      "<tr><td style=\"text-align:left\"></td><td>(0.09)</td></tr>\n",
      "<tr><td style=\"text-align:left\"></td><td></td></tr>\n",
      "<tr><td style=\"text-align:left\">HHInc_AT16</td><td>0.39<sup>***</sup></td></tr>\n",
      "<tr><td style=\"text-align:left\"></td><td>(0.08)</td></tr>\n",
      "<tr><td style=\"text-align:left\"></td><td></td></tr>\n",
      "<tr><td style=\"text-align:left\">HHInc_AT17</td><td>0.44<sup>***</sup></td></tr>\n",
      "<tr><td style=\"text-align:left\"></td><td>(0.08)</td></tr>\n",
      "<tr><td style=\"text-align:left\"></td><td></td></tr>\n",
      "<tr><td style=\"text-align:left\">HHInc_AT18</td><td>0.55<sup>***</sup></td></tr>\n",
      "<tr><td style=\"text-align:left\"></td><td>(0.08)</td></tr>\n",
      "<tr><td style=\"text-align:left\"></td><td></td></tr>\n",
      "<tr><td style=\"text-align:left\">HHInc_AT19</td><td>0.56<sup>***</sup></td></tr>\n",
      "<tr><td style=\"text-align:left\"></td><td>(0.08)</td></tr>\n",
      "<tr><td style=\"text-align:left\"></td><td></td></tr>\n",
      "<tr><td style=\"text-align:left\">HHInc_AT20</td><td>0.64<sup>***</sup></td></tr>\n",
      "<tr><td style=\"text-align:left\"></td><td>(0.08)</td></tr>\n",
      "<tr><td style=\"text-align:left\"></td><td></td></tr>\n",
      "<tr><td style=\"text-align:left\">HHInc_AT21</td><td>0.69<sup>***</sup></td></tr>\n",
      "<tr><td style=\"text-align:left\"></td><td>(0.09)</td></tr>\n",
      "<tr><td style=\"text-align:left\"></td><td></td></tr>\n",
      "<tr><td style=\"text-align:left\">HHInc_AT22</td><td>0.73<sup>***</sup></td></tr>\n",
      "<tr><td style=\"text-align:left\"></td><td>(0.09)</td></tr>\n",
      "<tr><td style=\"text-align:left\"></td><td></td></tr>\n",
      "<tr><td style=\"text-align:left\">HHInc_AT23</td><td>0.90<sup>***</sup></td></tr>\n",
      "<tr><td style=\"text-align:left\"></td><td>(0.09)</td></tr>\n",
      "<tr><td style=\"text-align:left\"></td><td></td></tr>\n",
      "<tr><td style=\"text-align:left\">HHInc_AT24</td><td>0.96<sup>***</sup></td></tr>\n",
      "<tr><td style=\"text-align:left\"></td><td>(0.09)</td></tr>\n",
      "<tr><td style=\"text-align:left\"></td><td></td></tr>\n",
      "<tr><td style=\"text-align:left\">HHInc_AT25</td><td>1.04<sup>***</sup></td></tr>\n",
      "<tr><td style=\"text-align:left\"></td><td>(0.08)</td></tr>\n",
      "<tr><td style=\"text-align:left\"></td><td></td></tr>\n",
      "<tr><td style=\"text-align:left\">HHInc_AT26</td><td>1.11<sup>***</sup></td></tr>\n",
      "<tr><td style=\"text-align:left\"></td><td>(0.09)</td></tr>\n",
      "<tr><td style=\"text-align:left\"></td><td></td></tr>\n",
      "<tr><td style=\"text-align:left\">HHInc_AT27</td><td>1.13<sup>***</sup></td></tr>\n",
      "<tr><td style=\"text-align:left\"></td><td>(0.08)</td></tr>\n",
      "<tr><td style=\"text-align:left\"></td><td></td></tr>\n",
      "<tr><td style=\"text-align:left\">HHInc_AT28</td><td>1.25<sup>***</sup></td></tr>\n",
      "<tr><td style=\"text-align:left\"></td><td>(0.09)</td></tr>\n",
      "<tr><td style=\"text-align:left\"></td><td></td></tr>\n",
      "<tr><td style=\"text-align:left\">HHInc_AT29</td><td>1.31<sup>***</sup></td></tr>\n",
      "<tr><td style=\"text-align:left\"></td><td>(0.09)</td></tr>\n",
      "<tr><td style=\"text-align:left\"></td><td></td></tr>\n",
      "<tr><td style=\"text-align:left\">HHInc_AT30</td><td>1.36<sup>***</sup></td></tr>\n",
      "<tr><td style=\"text-align:left\"></td><td>(0.09)</td></tr>\n",
      "<tr><td style=\"text-align:left\"></td><td></td></tr>\n",
      "<tr><td style=\"text-align:left\">HHInc_AT31</td><td>1.44<sup>***</sup></td></tr>\n",
      "<tr><td style=\"text-align:left\"></td><td>(0.09)</td></tr>\n",
      "<tr><td style=\"text-align:left\"></td><td></td></tr>\n",
      "<tr><td style=\"text-align:left\">HHInc_AT32</td><td>1.46<sup>***</sup></td></tr>\n",
      "<tr><td style=\"text-align:left\"></td><td>(0.09)</td></tr>\n",
      "<tr><td style=\"text-align:left\"></td><td></td></tr>\n",
      "<tr><td style=\"text-align:left\">HHInc_AT88</td><td>1.74<sup>***</sup></td></tr>\n",
      "<tr><td style=\"text-align:left\"></td><td>(0.15)</td></tr>\n",
      "<tr><td style=\"text-align:left\"></td><td></td></tr>\n",
      "<tr><td style=\"text-align:left\">post:treat</td><td>-0.17<sup>***</sup></td></tr>\n",
      "<tr><td style=\"text-align:left\"></td><td>(0.03)</td></tr>\n",
      "<tr><td style=\"text-align:left\"></td><td></td></tr>\n",
      "<tr><td style=\"text-align:left\">Constant</td><td>-1.12<sup>***</sup></td></tr>\n",
      "<tr><td style=\"text-align:left\"></td><td>(0.08)</td></tr>\n",
      "<tr><td style=\"text-align:left\"></td><td></td></tr>\n",
      "<tr><td colspan=\"2\" style=\"border-bottom: 1px solid black\"></td></tr><tr><td style=\"text-align:left\">Observations</td><td>126,069</td></tr>\n",
      "<tr><td style=\"text-align:left\">Log Likelihood</td><td>-76,647.00</td></tr>\n",
      "<tr><td style=\"text-align:left\">Akaike Inf. Crit.</td><td>153,394.00</td></tr>\n",
      "<tr><td colspan=\"2\" style=\"border-bottom: 1px solid black\"></td></tr><tr><td style=\"text-align:left\"><em>Note:</em></td><td style=\"text-align:right\"><sup>*</sup>p<0.1; <sup>**</sup>p<0.05; <sup>***</sup>p<0.01</td></tr>\n",
      "</table>\n"
     ]
    }
   ],
   "source": [
    "stargazer(model_dd_glm, \n",
    "          type = \"html\", \n",
    "          title = \"Regression Results: DID Model\", \n",
    "          align = TRUE, \n",
    "          digits = 2, \n",
    "          out = \"regression_results.html\")"
   ]
  },
  {
   "cell_type": "markdown",
   "id": "6e9051ad-a733-449c-a2fb-6d0ef100b1b1",
   "metadata": {},
   "source": [
    "# visualization"
   ]
  },
  {
   "cell_type": "markdown",
   "id": "ba461a43-430e-4299-bfca-58e3d903ac3b",
   "metadata": {},
   "source": [
    "## common trend"
   ]
  },
  {
   "cell_type": "code",
   "execution_count": 13,
   "id": "705414c7-458b-49bc-9c52-a7e52bf356de",
   "metadata": {
    "vscode": {
     "languageId": "r"
    }
   },
   "outputs": [
    {
     "name": "stderr",
     "output_type": "stream",
     "text": [
      "Warning message:\n",
      "\"\u001b[1m\u001b[22mUsing `size` aesthetic for lines was deprecated in ggplot2 3.4.0.\n",
      "\u001b[36mℹ\u001b[39m Please use `linewidth` instead.\"\n"
     ]
    },
    {
     "data": {
      "image/png": "[encoded data removed]",
      "text/plain": [
       "plot without title"
      ]
     },
     "metadata": {
      "image/png": {
       "height": 420,
       "width": 420
      }
     },
     "output_type": "display_data"
    }
   ],
   "source": [
    "pre_data <- data %>%\n",
    "  filter(AGEGRP %in% c(13,14,15,16,17,18)) %>%\n",
    "  mutate(\n",
    "    labour_force = ifelse(LFACT %in% 1:10, 1, 0),\n",
    "    treat = case_when(\n",
    "      IMMSTAT == 1 & HHInc_AT %in% 1:22 ~ 1,      \n",
    "      IMMSTAT == 1 & HHInc_AT >= 23 ~ 0,\n",
    "      IMMSTAT == 2 & AGEIMM <= 11 ~ 1,\n",
    "      IMMSTAT == 2 & AGEIMM > 11 ~ 0,\n",
    "      IMMSTAT == 3 ~ NA_real_,\n",
    "      AGEIMM %in% c(88, 99) ~ NA_real_\n",
    "    )\n",
    "  ) %>%\n",
    "  filter(IMMSTAT %in% c(1,2), !is.na(treat), !is.na(labour_force)) %>%\n",
    "  group_by(AGEGRP, treat) %>%\n",
    "  summarise(lfp_rate = mean(labour_force), .groups = \"drop\")\n",
    "\n",
    "# plot\n",
    "library(ggplot2)\n",
    "\n",
    "ggplot(pre_data, aes(x = AGEGRP, y = lfp_rate, color = factor(treat))) +\n",
    "  geom_line(size = 1.2) +\n",
    "  geom_point() +\n",
    "  geom_vline(xintercept = 17, linetype = \"dashed\", color = \"black\") +\n",
    "  labs(\n",
    "    x = \"Age Group (AGEGRP)\",\n",
    "    y = \"Labour Force Participation Rate\",\n",
    "    color = \"Treatment Group\"\n",
    "  ) +\n",
    "  theme_minimal()\n"
   ]
  },
  {
   "cell_type": "markdown",
   "id": "f943d9b0-85b0-41d7-9ab3-4641a7e7b475",
   "metadata": {},
   "source": [
    "# post bar"
   ]
  },
  {
   "cell_type": "code",
   "execution_count": 14,
   "id": "601d3b32-2654-4ccd-9b65-ed56d377ac1a",
   "metadata": {
    "vscode": {
     "languageId": "r"
    }
   },
   "outputs": [
    {
     "data": {
      "image/png": "[encoded data removed]",
      "text/plain": [
       "plot without title"
      ]
     },
     "metadata": {
      "image/png": {
       "height": 420,
       "width": 420
      }
     },
     "output_type": "display_data"
    }
   ],
   "source": [
    "ggplot(data_clean, aes(x = factor(post), y = labour_force, fill = factor(treat))) +\n",
    "  stat_summary(fun = mean, geom = \"bar\", position = \"dodge\") +\n",
    "  labs(\n",
    "    x = \"Post (Age ≥ 65)\",\n",
    "    y = \"Labour Force Participation Rate\",\n",
    "    fill = \"Treatment Group\"\n",
    "  ) +\n",
    "  theme_minimal()\n"
   ]
  }
 ],
 "metadata": {
  "kernelspec": {
   "display_name": "R",
   "language": "R",
   "name": "ir"
  },
  "language_info": {
   "codemirror_mode": "r",
   "file_extension": ".r",
   "mimetype": "text/x-r-source",
   "name": "R",
   "pygments_lexer": "r",
   "version": "4.4.1"
  }
 },
 "nbformat": 4,
 "nbformat_minor": 5
}
